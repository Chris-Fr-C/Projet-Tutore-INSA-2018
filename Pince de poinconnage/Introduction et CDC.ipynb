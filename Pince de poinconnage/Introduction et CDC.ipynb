{
 "cells": [
  {
   "cell_type": "markdown",
   "metadata": {},
   "source": [
    "# Introduction et cahier des charges /Mathieu Lecler\n",
    "Suite à notre rapport bibliographique et à notre état de l'art, nous avons pu obtenir des informations\n",
    "sur ce qui se faisait dans l'industrie à l'heure actuelle. Il est désormais temps de passer à l'étude \n",
    "technique de notre projet tutoré. En effet, à l'aide des connaissances acquises en cours et durant\n",
    "notre état de l'art, nous allons réaliser les algorithmes nécessaires à la selection de composants\n",
    "dans un catalogue, à leur optimisation, et nous présenterons également un cas d'étude, sur une pince\n",
    "de poinçonnage à application spatiale, pour obtenir un exemple de sélection de composants de \n",
    "manière manuelle. Cette sélection manuelle est importante, car elle pourra être comparée à l'avenir\n",
    "avec les selections algorithmiques, et nous pourrons déterminer la valeur ajoutée de notre algorithme,\n",
    "par gain de temps et de qualité dans la selection.\n",
    "\n",
    "Intéressons nous désormais à la pince de poinçonnage à application spatiale. Elle doit respecter un \n",
    "certain nombre d'exigences (vitesse, effort, dimensions...) pour être conforme. \n",
    "Ces exigences sont données par le cahier des charges suivant :\n",
    "    <img src=\"Images PJ/CDC1.png\">\n",
    "   *Exigences physiques de la pince de poinçonnage*\n",
    "   <img src=\"Images PJ/CDC2.png\">\n",
    "   *Exigences géométriques de la pince de poinçonnage*\n",
    "   \n",
    "Avec toutes ces informations en notre connaissance, nous allons pouvoir procéder au choix de la technologie, de la cinématique et de l'architecture, et enfin au pré-dimensionnement de notre pince de poinçonnage."
   ]
  },
  {
   "cell_type": "code",
   "execution_count": null,
   "metadata": {},
   "outputs": [],
   "source": []
  }
 ],
 "metadata": {
  "kernelspec": {
   "display_name": "Python 3",
   "language": "python",
   "name": "python3"
  },
  "language_info": {
   "codemirror_mode": {
    "name": "ipython",
    "version": 3
   },
   "file_extension": ".py",
   "mimetype": "text/x-python",
   "name": "python",
   "nbconvert_exporter": "python",
   "pygments_lexer": "ipython3",
   "version": "3.6.4"
  }
 },
 "nbformat": 4,
 "nbformat_minor": 2
}
