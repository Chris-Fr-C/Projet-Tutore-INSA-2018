{
 "cells": [
  {
   "cell_type": "markdown",
   "metadata": {},
   "source": [
    "# Pre-dimensionnement : Bâti\n",
    "Dans cette section, nous allons nous intéresser au pré-dimensionnement de la partie fixe du mécanisme, le bâti, incluant le bord immobile de la pince pour la tenue mécanique, avec des éléments de résistance de matériau, mais aussi au carter (housing) avec des éléments de thermique.\n",
    "\n",
    "1.Résistance des matériaux\n",
    "\n",
    "Nous modélisons le mors inférieur de la pince comme une poutre avec un angle de 90° sollicitée en son extrémité par un effort ponctuel.\n",
    "Le mors supérieur (bâti) peut être modélisé de la même manière, mais ce dernier est moins contraignant.\n",
    "<img src=\"Images PJ/PDBati1.png\">\n",
    "*Schéma de la partie immobile de la pince en version poutres*\n",
    "\n",
    "Poutre de section S et de moment quadratique Igz\n",
    "\n",
    "$ X_A = 0 $\n",
    "\n",
    "$ Y_A = -F $\n",
    "\n",
    "$ M_A = -L*F $\n",
    "\n",
    "Moment de flexion max :\n",
    "\n",
    "$ M_A = M_B = L*F $\n",
    "\n",
    "$ \\sigma_{xx} = (M_{fz}/I_{gz})z $\n",
    "\n",
    "Effort de traction max :\n",
    "\n",
    "$ N_A = N_B = F $\n",
    "\n",
    "$ \\sigma_{xx} = F/S$\n",
    "\n",
    "Contrainte de sollicitation totale :\n",
    "\n",
    "$ \\sigma = (M_{fz}/I_{gz})z + F/S $\n",
    "\n",
    "On s’intéresse plus particulièrement à la contrainte au point B :\n",
    "\n",
    "$ \\sigma_B = ((L*F)/I_{gz})z + F/S $\n",
    "\n",
    "Nous avons pris des valeurs arbitraires cohérentes pour estimer un ordre de grandeur de la résistance de notre structure. Nous pouvons modifier les valeurs en prenant une section plus grande et un acier plus résistant si besoin.\n",
    "<img src=\"Images PJ/PDBati2.png\">\n",
    "*Schéma et feuille de calculs RDM*\n",
    "\n",
    "En prenant des valeurs de base peu élevées (notamment h et Re) et les bras de levier minimaux (L et H) nous arrivons à un effort presque 10 fois inférieur à la limite élastique de l’acier.\n",
    "\n",
    "2.Thermique\n",
    "\n",
    "Nous considérons ici que la capacité thermique du système est principalement imputable à la masse d’acier. Le système étant dans l’espace, seul le rayonnement permet un échange de chaleur avec l’extérieur. Les deux moyens de dissipation possibles sont le rayonnement direct vers l’espace, et l’utilisation d’un système de dissipation par un cycle frigorifique utilisant de l’ammoniaque. Si un tel système existe sur le satellite équipé, il suffit de le relier au mécanisme de motorisation de la pince par des tubes caloporteurs.\n",
    "Voyons ce que donnerait une dissipation par rayonnement :\n",
    "\n",
    "$P_{syst} = 100[W]$\n",
    "\n",
    "$T_{acier} = 100*Cm_{acier} * m_{acier}[K]$\n",
    "\n",
    "$F_{ray} = \\sigma * \\epsilon * S_{echange}* (T_{acier} – T_{espace}) [W]$\n",
    "\n",
    "σ = 5.670367.10−8 W⋅m−2⋅K−4\n",
    "\n",
    "avec ε plus proche possible de 1\n"
   ]
  },
  {
   "cell_type": "code",
   "execution_count": null,
   "metadata": {},
   "outputs": [],
   "source": []
  }
 ],
 "metadata": {
  "kernelspec": {
   "display_name": "Python 3",
   "language": "python",
   "name": "python3"
  },
  "language_info": {
   "codemirror_mode": {
    "name": "ipython",
    "version": 3
   },
   "file_extension": ".py",
   "mimetype": "text/x-python",
   "name": "python",
   "nbconvert_exporter": "python",
   "pygments_lexer": "ipython3",
   "version": "3.6.4"
  }
 },
 "nbformat": 4,
 "nbformat_minor": 2
}
