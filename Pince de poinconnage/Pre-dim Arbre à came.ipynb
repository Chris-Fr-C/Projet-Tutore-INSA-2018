{
 "cells": [
  {
   "cell_type": "markdown",
   "metadata": {},
   "source": [
    "# Pre-dimensionnement : Arbre à came\n",
    "\n",
    "1.Profil de la came\n",
    "\n",
    "Pour répondre au cahier des charges, nous avons paramétré le profil de came suivant le tableur suivant. Nous avons fait le choix de linéariser la force de charge de 0 à 15kN sur la durée de la course de travail. Les trois premières colonnes sont relatives au déplacement vertical du suiveur.\n",
    "\n",
    "<img src=\"Images PJ/PDCame1.png\">\n",
    "*Dimensionnement profil de came*\n",
    "\n",
    "Nous paramétrons ainsi une vitesse importante lors de la phase d’approche, avant de réduire drastiquement la vitesse est d’appliquer la force. Nous obtenons un couple d’entrée maximum de 10 N.m. \n",
    "\n",
    "2.Arbre de la came\n",
    "\n",
    "Maintenant que le profil de came est défini, passons au dimensionnement de l’arbre à came lui même.\n",
    "Pour ce faire, nous avons besoin de procéder à quelques calculs de résistance des matériaux. Le matériau que nous avons choisi est le plus commun pour la transmission d’efforts mécaniques, soit de l’acier. Sa limite d'élasticité, pour un acier résistant (application spatiale) est de Re = 360 MPa.\n",
    "L’effort tangentiel à transmettre est T = 15000 N, puisque c’est l’effort final à appliquer en bout de course. \n",
    "\n",
    "On peut donc calculer la contrainte tangentielle 𝜏 qui est de $\\tau =4/3 *T*S$  \n",
    "Procédons par tâtonnement. Avec un rayon r = 10mm, on a S = PI* D²4 \n",
    "Soit 𝜏 = 63,7MPa.\n",
    "Avec un coefficient de sécurité de 2 pour la contrainte max, on a RegMax = 180MPa.\n",
    "Avec un coefficient de sécurité de 4 pour la fatigue, RegFatigue = 45MPa\n",
    "Dans ce cas, 𝜏 > RegFatigue, donc notre arbre à came n’a pas une tenue suffisante au cisaillement en fatigue.\n",
    "En effet, on désire 𝜏 < ReMax < ReFatigue.\n",
    "\n",
    "En augmentant légèrement notre rayon d’arbre à came, et pour avoir un peu de marge vis à vis du cisaillement en fatigue, on obtient r > 12mm. \n",
    "\n",
    "<img src=\"Images PJ/PDCame2.png\">\n",
    "*Dimensionnement de l'arbre à came, en tenue au cisaillement*\n"
   ]
  },
  {
   "cell_type": "code",
   "execution_count": null,
   "metadata": {},
   "outputs": [],
   "source": []
  }
 ],
 "metadata": {
  "kernelspec": {
   "display_name": "Python 3",
   "language": "python",
   "name": "python3"
  },
  "language_info": {
   "codemirror_mode": {
    "name": "ipython",
    "version": 3
   },
   "file_extension": ".py",
   "mimetype": "text/x-python",
   "name": "python",
   "nbconvert_exporter": "python",
   "pygments_lexer": "ipython3",
   "version": "3.6.4"
  }
 },
 "nbformat": 4,
 "nbformat_minor": 2
}
