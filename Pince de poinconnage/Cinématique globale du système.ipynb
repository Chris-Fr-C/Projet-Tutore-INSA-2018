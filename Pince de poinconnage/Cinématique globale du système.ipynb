{
 "cells": [
  {
   "cell_type": "markdown",
   "metadata": {},
   "source": [
    "# Cinématique globale du système \n",
    "\n",
    "Avant de passer à l'architecture exhaustive de notre système et de ses composants, nous voulions représenter le mécanisme à came sur un schéma cinématique. Celui ci nous permettra de mieux nous représenter les différentes classes d'équivalences, et les mouvements relatifs des pièces les unes par rapport aux autres. Notre système peut être cinématiquement modélisé de la manière suivante :\n",
    "<img src=\"Images PJ/Cin1.png\">\n",
    "*Schéma cinématique global de notre mécanisme*\n",
    "\n",
    "On peut donc se représenter ici le moteur, qui entrainera en rotation la came, elle même en liaison pivot avec le galet suiveur, qui fera translater le mors de la pince de poinçonnage. Le ressort de rappel sera positionné le long de la liaison glissière entre le galet et le mors.\n",
    "\n",
    "Etudions désormais l'architecture de notre système, en rentrant dans le détail des composants."
   ]
  }
 ],
 "metadata": {
  "kernelspec": {
   "display_name": "Python 3",
   "language": "python",
   "name": "python3"
  },
  "language_info": {
   "codemirror_mode": {
    "name": "ipython",
    "version": 3
   },
   "file_extension": ".py",
   "mimetype": "text/x-python",
   "name": "python",
   "nbconvert_exporter": "python",
   "pygments_lexer": "ipython3",
   "version": "3.6.4"
  }
 },
 "nbformat": 4,
 "nbformat_minor": 2
}
