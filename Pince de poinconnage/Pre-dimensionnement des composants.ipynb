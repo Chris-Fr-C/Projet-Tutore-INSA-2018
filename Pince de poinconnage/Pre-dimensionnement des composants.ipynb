{
 "cells": [
  {
   "cell_type": "markdown",
   "metadata": {},
   "source": [
    "# Pré-dimensionnement des composants\n",
    "Dans cette section, nous allons procéder à un dimensionnement préliminaire de l'ensemble des composants essentiels à notre système. \n",
    "Pour ce faire, nous étudierons les composants grâce à leur design drivers, ou critères de sélection. Ils sont multiples, et ce sont ces critères qui déterminerons les paramètres des dits composants. Nous expliquerons les design drivers sélectionnés ainsi que la façon dont nous les respecterons dans chaque sous-section. \n",
    "1. [Arbre à Came](Pre-dim Arbre à came.ipynb)\n",
    "1. [Galet Suiveur]\n",
    "1. [Ressort de Rappel]\n",
    "1. [Réducteur]\n",
    "1. [Moteur]\n",
    "1. [Bâti]\n",
    "\n"
   ]
  }
 ],
 "metadata": {
  "kernelspec": {
   "display_name": "Python 3",
   "language": "python",
   "name": "python3"
  },
  "language_info": {
   "codemirror_mode": {
    "name": "ipython",
    "version": 3
   },
   "file_extension": ".py",
   "mimetype": "text/x-python",
   "name": "python",
   "nbconvert_exporter": "python",
   "pygments_lexer": "ipython3",
   "version": "3.6.4"
  }
 },
 "nbformat": 4,
 "nbformat_minor": 2
}
