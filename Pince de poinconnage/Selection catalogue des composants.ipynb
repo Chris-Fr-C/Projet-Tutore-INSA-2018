{
 "cells": [
  {
   "cell_type": "markdown",
   "metadata": {},
   "source": [
    "# Sélection sur catalogue des composants"
   ]
  },
  {
   "cell_type": "markdown",
   "metadata": {},
   "source": [
    "Dans cette partie, nous choisissons des composants sur catalogue en fonction des critères de pré-dimensionnement établis lors de la section précédente. Ils seront amenés à évoluer pour tendre vers une optimisation de la sélection de chaque composant.\n",
    "\n",
    "Les six principaux éléments à choisir sont les suivants : "
   ]
  },
  {
   "cell_type": "markdown",
   "metadata": {},
   "source": [
    "- Moteur\n",
    "- Réducteur\n",
    "- Guidage en rotation de l'arbre de la came (roulements à billes pour le moment)\n",
    "- Galet suiveur\n",
    "- Ressort de rappel du poinçon\n",
    "- Liaison glissière entre le bâti et le poinçon"
   ]
  },
  {
   "cell_type": "markdown",
   "metadata": {},
   "source": [
    "Les éléments suivants seront fait sur mesure pour notre système :"
   ]
  },
  {
   "cell_type": "markdown",
   "metadata": {},
   "source": [
    "- Arbre de la came\n",
    "- Came avec profil adéquat selon les calculs de prédimensionnement\n",
    "- Bâti"
   ]
  },
  {
   "cell_type": "markdown",
   "metadata": {},
   "source": [
    "Ils seront développés par la suite, pour ce premier rendu des livrables, nous sommes concentrés sur la sélection des éléments sur catalogue."
   ]
  },
  {
   "cell_type": "markdown",
   "metadata": {},
   "source": [
    "Il est aussi à noter que certaines pièces, moins importantes, ainsi que la conception précise du système ne sera pas traitée, du moins pour le moment, à savoir : "
   ]
  },
  {
   "cell_type": "markdown",
   "metadata": {},
   "source": [
    "- Mise en position et maintien en position des composants dans le bâti (roulements, glissière, arrêts axiaux multiples)\n",
    "- Accouplements des arbres\n",
    "- Système(s) de lubrification\n",
    "- Tolérances fonctionnelles\n",
    "- Jeux\n",
    "- ..."
   ]
  },
  {
   "cell_type": "markdown",
   "metadata": {},
   "source": [
    "    Composants :"
   ]
  },
  {
   "cell_type": "markdown",
   "metadata": {},
   "source": [
    "[Moteur](Moteur choisi.ipynb)"
   ]
  },
  {
   "cell_type": "markdown",
   "metadata": {},
   "source": [
    "[Réducteur](Réducteur choisi.ipynb)"
   ]
  },
  {
   "cell_type": "markdown",
   "metadata": {},
   "source": [
    "[Roulements à billes](Roulements choisis.ipynb)"
   ]
  },
  {
   "cell_type": "markdown",
   "metadata": {},
   "source": [
    "[Galet suiveur](Galet choisi.ipynb)"
   ]
  },
  {
   "cell_type": "markdown",
   "metadata": {},
   "source": [
    "[Ressort de rappel](Ressort choisi.ipynb)"
   ]
  },
  {
   "cell_type": "markdown",
   "metadata": {},
   "source": [
    "[Glissiere](Glissiere choisie.ipynb)"
   ]
  },
  {
   "cell_type": "markdown",
   "metadata": {},
   "source": [
    "# [Retour au sommaire](../sommaire.ipynb)"
   ]
  }
 ],
 "metadata": {
  "anaconda-cloud": {},
  "kernelspec": {
   "display_name": "Python [default]",
   "language": "python",
   "name": "python3"
  },
  "language_info": {
   "codemirror_mode": {
    "name": "ipython",
    "version": 3
   },
   "file_extension": ".py",
   "mimetype": "text/x-python",
   "name": "python",
   "nbconvert_exporter": "python",
   "pygments_lexer": "ipython3",
   "version": "3.5.2"
  }
 },
 "nbformat": 4,
 "nbformat_minor": 1
}
