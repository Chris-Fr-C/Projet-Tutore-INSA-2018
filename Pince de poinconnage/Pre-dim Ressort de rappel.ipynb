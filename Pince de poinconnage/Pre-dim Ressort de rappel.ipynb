{
 "cells": [
  {
   "cell_type": "markdown",
   "metadata": {},
   "source": [
    "# Pre-dimensionnement : Ressort de rappel\n",
    "Notre mécanisme à came est capable de pousser la partie mobile de la pince dans le sens de poinçonnage. Pour permettre le mouvement de recul, donc dans le sens inverse, nous avons décidé de coupler notre mécanisme à came avec un ressort de rappel. \n",
    "Dans notre cas, la force utile développée par la came est de 15000 Newtons, c'est la force requise par le cahier des charges en ce qui concerne l'action de poinçonnage.\n",
    "Pour effectuer le rappel, nous prenons comme critère les 10% de la force utile, on a donc besoin d'un ressort qui peut supporter une charge de 1500 Newtons.\n",
    "Dans notre cas, l'encombrement est une question importante. On a un très petit débattement pour le ressort, qui doit être inférieur mais proche de 10mm puisque c'est le déplacement maximal du galet suiveur. \n",
    "Après concertation avec un expert en ressorts, nous avons fait le choix d'utiliser des rondelles belleville, des rondelles qui se comportent comme un ressort, et qui sont capables de supporter une charge importante et qui requièrent un encombrement très faible, au détriment du prix.\n",
    "<img src=\"Images PJ/PDRessort1.png\">\n",
    "*Fiche technique sur les rondelles Belleville*\n",
    "\n",
    "Ici, le pré-dimensionnement ne va pas arrêter le choix de la rondelle belleville en question. Puisqu'on aura une succession de rondelles, montées en série ou en parallèle, de manière à atteindre la charge de 1500N qu'on cherche à obtenir. \n",
    "Par exemple, on peut prendre 10 rondelles supportant une charge entre 120 et 180N, et les associer en parallèle pour obtenir 1500N. \n",
    "Dans le cas ou on doit déplacer les rondelles sur une course plus grande, on peut associer les rondelles en parallèles à des rondelles placées en série, ce qui s'appelle un montage mixte. \n",
    "Enfin on s'assurera que la course des rondelles est suffisante mais n'atteint pas la butée, pour que la force de rappel puisse être exercée. \n",
    "Nous arrêterons le choix du modèle de rondelles ainsi que du type de montage lors de la partie de sélection des composants dans un catalogue."
   ]
  }
 ],
 "metadata": {
  "kernelspec": {
   "display_name": "Python 3",
   "language": "python",
   "name": "python3"
  },
  "language_info": {
   "codemirror_mode": {
    "name": "ipython",
    "version": 3
   },
   "file_extension": ".py",
   "mimetype": "text/x-python",
   "name": "python",
   "nbconvert_exporter": "python",
   "pygments_lexer": "ipython3",
   "version": "3.6.4"
  },
  "widgets": {
   "application/vnd.jupyter.widget-state+json": {
    "state": {},
    "version_major": 2,
    "version_minor": 0
   }
  }
 },
 "nbformat": 4,
 "nbformat_minor": 2
}
