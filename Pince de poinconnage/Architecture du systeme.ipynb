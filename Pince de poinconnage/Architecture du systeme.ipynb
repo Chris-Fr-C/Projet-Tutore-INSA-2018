{
 "cells": [
  {
   "cell_type": "markdown",
   "metadata": {},
   "source": [
    "# Architecture du système\n",
    "1.Représentation du système\n",
    "\n",
    "Après avoir mis en évidence les différentes classes d'équivalences, procédons maintenant au détail des composants qui réaliseront ces liaisons mécaniques.\n",
    "On a résumé l'ensemble des composants dans le schéma suivant :\n",
    "<img src=\"Images PJ/Arc1.png\">\n",
    "*Architecture et chaine de puissance*\n",
    "\n",
    "On a insisté ici sur les différents types de puissances qui transitent dans notre système. On génère une puissance électrique avec de l'électronique de puissance, qui va être convertie en puissance mécanique de rotation par notre moteur. On conservera de l'énergie mécanique de rotation jusqu'au galet suiveur, en passant par la came. Le galet se chargera de transformer cette puissance en mécanique de translation, qui est le mouvement utile, puisque l'on désire poinçonner.\n",
    "\n",
    "Veuillez trouver également une vue en coupe de notre système :\n",
    "<img src=\"Images PJ/Arc2.png\">\n",
    "*Architecture vue en coupe*\n",
    "\n",
    "Nous voyons ici une coupe du système mettant en évidence les pièces importantes du mécanisme (l’arbre moteur et les étages réductions ne sont pas représentatifs) :\n",
    "-\tLa came et son arbre, montés en rotation avec le bâti\n",
    "-\tLe suiveur monté en rotation sur son support\n",
    "-\tLa liaison glissière guidant le suiveur par rapport au bâti\n",
    "-\tLe ressort de rappel \n",
    "\n",
    "\n",
    "2.Choix du profil de transmission par came\n",
    "Nous voulons réaliser une translation verticale périodique. Pour cela, nous avons choisi d’utiliser une came associée à un galet suiveur avec un rappel à ressort.\n",
    "<img src=\"Images PJ/Arc3.png\">\n",
    "*Came et ressort de rappel*\n",
    "\n",
    "Nous avons choisi de réaliser un profil de came en spiral. Ainsi, la course complète du suiveur est réalisée en un tour de came, puis celle-ci inverse sa course et le ressort rappelle le galet suiveur dans sa position initiale.\n",
    "<img src=\"Images PJ/Arc4.png\">\n",
    "*Profil de came*\n",
    "\n",
    "Nous utilisons ainsi le plus de surface possible sur la came, en limitant la course à 75% de la circonférence de la came, afin de reste loin de la discontinuité. Plus la course est longue, moins la variation de diamètre doit être importante. Or, cette variation de diamètre est directement liée à la vitesse linéaire du suiveur, que nous devons contrôler."
   ]
  }
 ],
 "metadata": {
  "kernelspec": {
   "display_name": "Python 3",
   "language": "python",
   "name": "python3"
  },
  "language_info": {
   "codemirror_mode": {
    "name": "ipython",
    "version": 3
   },
   "file_extension": ".py",
   "mimetype": "text/x-python",
   "name": "python",
   "nbconvert_exporter": "python",
   "pygments_lexer": "ipython3",
   "version": "3.6.4"
  }
 },
 "nbformat": 4,
 "nbformat_minor": 2
}
