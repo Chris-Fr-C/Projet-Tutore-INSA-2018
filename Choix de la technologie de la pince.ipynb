{
 "cells": [
  {
   "cell_type": "markdown",
   "metadata": {},
   "source": [
    "# Choix de la technologie de la pince\n",
    "Dans cette section, nous allons détailler les différentes technologies qui pourraient remplir le cahier \n",
    "des charges cité précédemment. A chaque fois, nous donnerons les points forts et les points faibles, puis\n",
    "nous expliquerons la technologie choisie au final, et justifierons son choix.\n",
    "0. Pince à mors parallèles\n",
    " <img src=\"Images PJ\\CTP1.png\">\n",
    " *Représentation d'une pince à mors parellèles*\n",
    " \n",
    "| Avantages | Inconvénients|\n",
    "|-----------|--------------|\n",
    "|+ Grande course      | - Ratio cinématique|\n",
    "|+ Déport             | - Efforts dans les liaisons /!\\       |\n",
    "Ce fut notre première idée de technologie. La course est suffisante, le déport était intéressant car demandé dans le cahier des charges... Seulement les grands efforts qui seront\n",
    "développés dans chaque liaison risque de poser problème lors de notre pré-dimensionnement.\n",
    "0. Pince type clinchage\n",
    " <img src=\"Images PJ\\CTP2.png\">\n",
    " *Représentation d'une pince de type clinchage*\n",
    "\n",
    "| Avantages | Inconvénients|\n",
    "|-----------|--------------|\n",
    "|+ Efforts suffisants     | - Faible course|\n",
    "|+ Vitesse d’approche importante       | - Aucun déport /!\\      |\n",
    "Cette tentative de solution technologique était déjà plus proche de ce que nous cherchions à obtenir. En effet, les efforts transmis par la pince de poinçonnage (15000 Newtons pour un dispositif de \"petite taille\") étant assez importants, ce dispositif pourrait les supporter. Cependant, l'architecture suivante est également capable de transmettre des efforts importants. On doit souligner que dans le cahier des charges, il faut un déport latéral de 20mm, et ce n'était pas possible avec ce dispositif, ce qui nous conforte dans notre choix de technologie final...\n",
    "\n",
    "0. Pince à l'aide d'un arbre à came\n",
    " <img src=\"Images PJ\\CTP3.png\">\n",
    " *Représentation d'une pince basée sur un arbre à came*\n",
    " \n",
    "| Avantages | Inconvénients|\n",
    "|-----------|--------------|\n",
    "|+ Efforts suffisants     | - Paramétrisation plus complexe |\n",
    "|+ Déport possible...       | - ... mais crée de la flexion   |\n",
    "|+Course et vitesse dépendantes de la came (donc suffisamment grande en fonction du profil)||\n",
    "Cette dernière technologie est finalement celle que nous avons choisi. Elle est certes, plus complexe à paramétrer, mais elle permet de nombreuses libertés. Elle est peu encombrantes, peut supporter des efforts importants (nous dimensionnerons les différents composants par la suite), et permet le déport obligatoire au cahier des charges (attention, il crée de la flexion et nécessitera des calculs de Resistance des Matériaux !). Enfin, la course de 10mm est facilement atteignable, et on peut avoir une vitesse d'avance très importante en début de course, puis une vitesse faible au moment de poinçonner, avec des efforts importants.\n",
    "Tout cela est permis avec le profil de la came que nous allons définir nous même dans une partie suivante. "
   ]
  }
 ],
 "metadata": {
  "kernelspec": {
   "display_name": "Python 3",
   "language": "python",
   "name": "python3"
  },
  "language_info": {
   "codemirror_mode": {
    "name": "ipython",
    "version": 3
   },
   "file_extension": ".py",
   "mimetype": "text/x-python",
   "name": "python",
   "nbconvert_exporter": "python",
   "pygments_lexer": "ipython3",
   "version": "3.6.4"
  }
 },
 "nbformat": 4,
 "nbformat_minor": 2
}
