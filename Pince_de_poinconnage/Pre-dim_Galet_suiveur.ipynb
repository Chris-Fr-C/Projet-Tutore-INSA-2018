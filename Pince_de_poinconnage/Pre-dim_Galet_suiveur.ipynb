{
 "cells": [
  {
   "cell_type": "markdown",
   "metadata": {},
   "source": [
    "# Pre-dimensionnement : Arbre du galet suiveur\n",
    "Dans cette section, nous allons dimensionner l'arbre du galet suiveur selon deux critères : La contrainte max en cisaillement, qui sera calculée de la même manière que pour l'arbre à came (voir section précédente), ainsi que la pression de contact,  qui sera calculée en respectant le principe de la théorie de Hertz.\n",
    "\n",
    "1.Dimensionnement en résistance au cisaillement\n",
    "\n",
    "L'arbre du galet suiveur sera nécessairement plus petit que celui de l'arbre à came. Il est donc important, pour s'assurer une tenue au cisaillement suffisante, de choisir un acier à haute résistance elastique. Par exemple, chez Strenx, on trouve des acier dont la limite d'élasticité peut environner les 900Mpa. Etant donné que notre pince de poinçonnage est à application spatiale, nous allons faire fi du prix et nous soucier davantage de la qualité de nos composants. \n",
    "De la même manière que pour l'arbre à came, nous utilisons une feuille de calcul excel reprenant les mêmes formules, en changeant la résistance de notre matériau, et nous trouverons un rayon inférieur qui devrait nous convenir.\n",
    "\n",
    "<img src=\"Images_PJ/PDGalet1.png\">\n",
    "*Feuille de calcul sur la tenue au cisaillement du galet suiveur*\n",
    "\n",
    "Ici, nous choisissons donc une limite elastique très élevée pour le matériau du galet. En utilisant les mêmes coefficients de sécurité (de 2 et de 4) pour la résistance en contrainte max et en fatigue, on trouve qu'un rayon de 7.5mm pour l'arbre du galet sera suffisamment résistant.\n",
    "\n",
    "2.Dimensionnement selon la théorie de Hertz\n",
    "\n",
    "La théorie du contact de Hertz décrit la capacité à deux solides de ne pas être dégradé à cause de la pression engendrée par leur contact. C'est une des multiples théories qui tentent de décrire la réaction de deux solides en contact, qu'ils soient en mouvement ou statiques. Nous avons choisi d'utiliser cette théorie pour dimensionner notre galet suiveur.\n",
    "\n",
    "La pression linéique (car contact cylindre-cylindre) est p = $ \\frac{2F}{\\pi b l} $\n",
    "\n",
    "On cherche à calculer b, la largeur de la zone de contact, puisqu'elle entre dans le calcul de la pression de contact :\n",
    "<img src=\"Images_PJ/PDGalet2.png\">\n",
    "Dans notre cas, pour des modules acier à modules d'young plus faibles que la moyenne, prenons par exemple un E proche de l'aluminium, soit E = 70GPa, on obtient :\n",
    "\n",
    "$b = 5.1*10^{-4}[m]$\n",
    "\n",
    "On trouve donc $p_{max} = 1.8*10^{8}[MPa]$\n",
    "\n",
    "On cherche ensuite à calculer la contrainte max de contact selon la formule suivante :\n",
    "<img src=\"Images_PJ/PDGalet3.png\">\n",
    "\n",
    "De ce fait, $\\sigma_z = 1.12*10^{8}[MPa]$\n",
    "\n",
    "\n",
    "Ce résultat est dans l'ordre de grandeur pour un dimensionnement en statique, cependant ici nous sommes en dynamique, et l'ordre de grandeur est dix fois supérieur à ce qu'on attendrait pour du contact acier acier en dynamique.\n",
    "\n",
    "1) Qu'est-ce que cela implique ? \n",
    "\n",
    "Les matériaux ne vont pas rompre à peine mis en contact. Cependant, sur le long terme, de la fatigue va naître, et encore plus au sein du galet suiveur qui a un diamètre plus petit que l'arbre à came, c'est la première pièce qui va subir des fissures dues à la pression de contact. Ainsi, la durée de vie des composants sera nécessairement plus petite que celle estimée en premier lieu.\n",
    "Ce n'est pas forcément d'une forte gravité, si, par exemple, les roulements rompent en premier, on pourra changer le mécanisme d'arbre à came et galet suiveur en même temps. Dans le cas où la durée de vie des roulements (et de tous les autres composants) serait bien supérieure, cela peut, en revanche, poser problème.\n",
    "\n",
    "2) Comment essayer d'y remédier ?\n",
    "\n",
    "On peut jouer sur plusieurs facteurs pour essayer de diminuer la pression de contact ressentie par le galet suiveur (et ainsi l'arbre à came).\n",
    "\n",
    "Augmenter b -> \n",
    "- On peut changer les types de matériaux, et prendre des aciers (ou d'autres éléments métalliques) avec un module young encore plus faible. Cela augmentera la largeur de la zone de contact (b), et ainsi la pression totale max sur cette surface de contact sera moins grande.\n",
    "- Augmenter le diamètre des arbres de galet suiveur et à came, le diamètre entrant dans le calcul de b, il serait judicieux, si l'encombrement nous le permet, de jouer sur ce paramètre\n",
    "\n",
    "Augmenter L -> \n",
    "On peut aussi prendre une longueur de contact L plus grande, cette fois ce n'est pas en jouant avec le type de matériau mais bien avec la forme de la pièce. Sur une longueur de contact plus grande, la pression diminuera aussi. "
   ]
  },
  {
   "cell_type": "markdown",
   "metadata": {},
   "source": [
    "# [Retour au sommaire de la partie](Pre-dimensionnement_des_composants.ipynb)\n",
    "# [Retour au sommaire](../sommaire.ipynb)"
   ]
  }
 ],
 "metadata": {
  "kernelspec": {
   "display_name": "Python 3",
   "language": "python",
   "name": "python3"
  },
  "language_info": {
   "codemirror_mode": {
    "name": "ipython",
    "version": 3
   },
   "file_extension": ".py",
   "mimetype": "text/x-python",
   "name": "python",
   "nbconvert_exporter": "python",
   "pygments_lexer": "ipython3",
   "version": "3.6.4"
  }
 },
 "nbformat": 4,
 "nbformat_minor": 2
}
