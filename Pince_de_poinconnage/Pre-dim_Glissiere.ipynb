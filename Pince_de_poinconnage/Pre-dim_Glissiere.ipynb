{
 "cells": [
  {
   "cell_type": "markdown",
   "metadata": {},
   "source": [
    "# Pre-Dimensionnement de la glissière"
   ]
  },
  {
   "cell_type": "markdown",
   "metadata": {},
   "source": [
    "    Contexte :"
   ]
  },
  {
   "cell_type": "markdown",
   "metadata": {},
   "source": [
    "Pour dimensionner notre glissière, on prend en compte la géométrie du poinçon, se basant sur les calculs de la contre-pince (bâti). L'enjeu de la glissière est de permettre la translation de la pièce liée à l'axe du galet suiveur, c'est à dire le poinçon, par rapport au bâti. Comme notre force foit s'appliquer à l'extrémité de la pièce poinçon, et que ce point d'application de la force est décentré par rapport à la glissière, elle devra reprendre les efforts non axiaux."
   ]
  },
  {
   "cell_type": "markdown",
   "metadata": {},
   "source": [
    "    Schéma et calcul des efforts non axiaux :"
   ]
  },
  {
   "cell_type": "markdown",
   "metadata": {},
   "source": [
    "<img src=\"Images_PJ/PDGlissiere1.png\">"
   ]
  },
  {
   "cell_type": "markdown",
   "metadata": {},
   "source": [
    "Effort non axial $ = ((F\\times b \\times L)/2)\\times(1/(h/2)) = F\\times b \\times l/h $ soit $ E = F\\times L/h $"
   ]
  },
  {
   "cell_type": "markdown",
   "metadata": {},
   "source": [
    "Avec F = 15000N, L = 20mm, et h à définir selon l'élément technologique choisi pour assurer la liaison glissiere.\n",
    "Pour une longueur de glissière de 10cm, par exemple, on trouve : 15000*0.02/0.1 = 3000N d'effort à reprendre par le composant."
   ]
  },
  {
   "cell_type": "markdown",
   "metadata": {},
   "source": [
    "Pour les solutions technologiques disponibles pour une glissière, on a le choix, entre des douilles à billes, des vis à billes, des paliers complets, des rails. Cependant, la pièce sur laquelle doit s'appliquer cette glissière étant le poinçon, on ne peut pas se permttre une rotation de cette pièce, les vis à billes sont donc à exclure."
   ]
  },
  {
   "cell_type": "markdown",
   "metadata": {},
   "source": [
    "On préconise un rainurage de la pièce poinçon avec des billes, et une bague en une ou deux partie(s) rainurée aussi. Le concept est le même que pour une douille à billes. Les douilles à billes sont aussi proposées par les constructeurs avec des dimensions sur demande."
   ]
  },
  {
   "cell_type": "markdown",
   "metadata": {},
   "source": [
    "# [Retour au sommaire de la partie](Pre-dimensionnement_des_composants.ipynb)\n",
    "# [Retour au sommaire](../sommaire.ipynb)"
   ]
  }
 ],
 "metadata": {
  "anaconda-cloud": {},
  "kernelspec": {
   "display_name": "Python [default]",
   "language": "python",
   "name": "python3"
  },
  "language_info": {
   "codemirror_mode": {
    "name": "ipython",
    "version": 3
   },
   "file_extension": ".py",
   "mimetype": "text/x-python",
   "name": "python",
   "nbconvert_exporter": "python",
   "pygments_lexer": "ipython3",
   "version": "3.5.2"
  }
 },
 "nbformat": 4,
 "nbformat_minor": 1
}
