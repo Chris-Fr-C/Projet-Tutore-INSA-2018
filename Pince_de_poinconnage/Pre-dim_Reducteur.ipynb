{
 "cells": [
  {
   "cell_type": "markdown",
   "metadata": {},
   "source": [
    "# Pre-dimensionnement : Réducteur"
   ]
  },
  {
   "cell_type": "markdown",
   "metadata": {},
   "source": [
    "L'ensemble moteur et réducteur doit permettre de faire rentrer en rotation l'arbre de la came d'un diamètre de 24mm à 0.15radian/seconde et développer le couple de 10Nm nécessaire au poinçonnage.\n",
    "\n",
    "Comme nous l'avons vu dans les critères de pré-dimensionnement du moteur, le réducteur devra permettre un rapport de réduction très important, de l'ordre de 100 à 200. Pour cela, plusieurs hypothèses peuvent être envisagées : "
   ]
  },
  {
   "cell_type": "markdown",
   "metadata": {},
   "source": [
    "- Réducteurs mécaniques classiques\n",
    "- Harmonic Drive\n",
    "- Réducteur planétaire coaxial à plusieurs étages"
   ]
  },
  {
   "cell_type": "markdown",
   "metadata": {},
   "source": [
    "    1. Réducteurs mécaniques classiques"
   ]
  },
  {
   "cell_type": "markdown",
   "metadata": {},
   "source": [
    "<img src=\"Images_PJ/PDRed1.gif\">"
   ]
  },
  {
   "cell_type": "markdown",
   "metadata": {},
   "source": [
    "Le réducteur à engrenages droits à un étage est la solution la plus simple lors de rapports de réductions usuels, mais il n'est pas utilisable dans notre cas. Pour obtenir un rapport de réduction de 100, l'engrènement du pignon par un engrenage necessiterait un nombre de dents cent fois supérieur au pignon, et ne remplirait pas le cahier des charges en matière d'encombrement, en plus d'apporter une masse très conséquente."
   ]
  },
  {
   "cell_type": "markdown",
   "metadata": {},
   "source": [
    "<img src=\"Images_PJ/PDRed2.jpg\">"
   ]
  },
  {
   "cell_type": "markdown",
   "metadata": {},
   "source": [
    "L'ensemble chaîne-pignons n'est pas non plus adéquat pour les mêmes raisons, l'encombrement étant trop important."
   ]
  },
  {
   "cell_type": "markdown",
   "metadata": {},
   "source": [
    "<img src=\"Images_PJ/PDRed3.jpg\">"
   ]
  },
  {
   "cell_type": "markdown",
   "metadata": {},
   "source": [
    "Un réducteur par système de roue et vis sans fin permettrait de palier au problème et serait envisageable avec une vis sans fin de plusieurs filets."
   ]
  },
  {
   "cell_type": "markdown",
   "metadata": {},
   "source": [
    "    2. Harmonic Drive (réducteurs élliptiques déformables)"
   ]
  },
  {
   "cell_type": "markdown",
   "metadata": {},
   "source": [
    "<img src=\"Images_PJ/PDRed4.png\">"
   ]
  },
  {
   "cell_type": "markdown",
   "metadata": {},
   "source": [
    "\"Le principe général du réducteur Harmonic Drive® le classe dans la catégorie des réducteurs elliptiques. Le Flexspline est déformé par le Wave Generator elliptique et engrène la denture interne du Circular Spline suivant le grand axe de l'ellipse. Avec la rotation du Wave Generator, la zone d'engrènement se déplace dans le grand axe de l'ellipse. Le Flexspline ayant deux dents de moins que le Circular Spline, une rotation d'un demi tour du Wave Generator entraîne un déplacement relatif d'une dent entre le Flexspline et le Circular Spline ; une rotation d'un tour entraîne donc un déplacement de deux dents. Le Circular Spline étant la pièce fixe du mécanisme, le sens de rotation s'inverse entre l'entrée du réducteur (Wave Generator) et la sortie du réducteur (Flexspline).\""
   ]
  },
  {
   "cell_type": "markdown",
   "metadata": {},
   "source": [
    "Source : https://harmonicdrive.de/fr/technologie/reducteurs-elliptiques-harmonic-drive/"
   ]
  },
  {
   "cell_type": "markdown",
   "metadata": {},
   "source": [
    "Ce réducteur est adapté dans la transmission de couples entre 8 et 372Nm et permet des rapports de réduction de 30 à 320 sans jeu et avec une excellente durée de vie grâce à une usure quasi nulle par la plasticité du \"Flexspline\".\n",
    "C'est une sérieuse option à considérer."
   ]
  },
  {
   "cell_type": "markdown",
   "metadata": {},
   "source": [
    "    3. Microréducteurs planétaires "
   ]
  },
  {
   "cell_type": "markdown",
   "metadata": {},
   "source": [
    "<img src=\"Images_PJ/PDRed5.png\">"
   ]
  },
  {
   "cell_type": "markdown",
   "metadata": {},
   "source": [
    "Source : http://pdf.directindustry.fr/pdf/faulhaber/systemes-entrainement-2017-faulhaber-catalogue/7023-690778.html#open"
   ]
  },
  {
   "cell_type": "markdown",
   "metadata": {},
   "source": [
    "Les réducteurs planétaires coaxiaux qui nous intéressent ici sont ceux qui sont proposés par les fabricants de micromoteurs. Ils ont l'avantage d'être directement adaptables sur les moteurs de la même marque et d'être conçus spécifiquement pour. Ils peuvent présenter des rapports de réduction très variables allant de 10 à plus de 300 et on l'avantage d'être très compacts (à peu près la taille du moteur, voir légèrement plus longs). Ils sont de plus très légers comparés aux autres solutions décrites plus haut (moins d'1kg)."
   ]
  },
  {
   "cell_type": "markdown",
   "metadata": {},
   "source": [
    "    4. Microréducteurs à plusieurs étages"
   ]
  },
  {
   "cell_type": "markdown",
   "metadata": {},
   "source": [
    "<img src=\"Images_PJ/PDRed6.png\">"
   ]
  },
  {
   "cell_type": "markdown",
   "metadata": {},
   "source": [
    "Source : http://pdf.directindustry.fr/pdf/faulhaber/systemes-entrainement-2017-faulhaber-catalogue/7023-690778.html#open"
   ]
  },
  {
   "cell_type": "markdown",
   "metadata": {},
   "source": [
    "Une succession de réducteurs à plusieurs étages est aussi envisageables, avec les mêmes caractéristiques que les planétaires, eux aussi directement disponibles chez les fabricants de micromoteurs.\n",
    "\n",
    "Cette possibilité est aussi à considérer pour la sélection de notre réducteur."
   ]
  },
  {
   "cell_type": "markdown",
   "metadata": {},
   "source": [
    "# [Retour au sommaire de la partie](Pre-dimensionnement des composants.ipynb)\n",
    "# [Retour au sommaire](../sommaire.ipynb)"
   ]
  }
 ],
 "metadata": {
  "kernelspec": {
   "display_name": "Python 3",
   "language": "python",
   "name": "python3"
  },
  "language_info": {
   "codemirror_mode": {
    "name": "ipython",
    "version": 3
   },
   "file_extension": ".py",
   "mimetype": "text/x-python",
   "name": "python",
   "nbconvert_exporter": "python",
   "pygments_lexer": "ipython3",
   "version": "3.6.4"
  }
 },
 "nbformat": 4,
 "nbformat_minor": 1
}
