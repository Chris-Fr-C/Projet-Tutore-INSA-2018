{
 "cells": [
  {
   "cell_type": "markdown",
   "metadata": {},
   "source": [
    "# Choix du composant : Ressort de rappel\n",
    "Nous allons dans cette section choisir un ressort de rappel, donc une rondelle belleville, suite au pré-dimensionnement effectué dans la section précédente.\n",
    "\n",
    "\n",
    "Choix n°1 : Rondelle Belleville \n",
    "Caractéristiques principales : Voir fiche technique.\n",
    "\n",
    "<img src=\"Images_PJ/Crondelle1.png.jpg\>",
    "*Fiche Technique de la rondelle Belleville choisie*\n",
    "Avantages :\n",
    "- Très faible encombrement\n",
    "- Diamètre faible et ajustable en changeant le modèle si nécessaire après vérification\n",
    "- Charge importante grâce au montage en parallèle\n",
    "\n",
    "Inconvénients :\n",
    "- Nécessité de réfléchir sur le montage si des ajustements sont à refaire (parallèle/série)\n",
    "- On ne sait pas si le matériau réagira exactement de la manière attendue à la température de l'espace\n",
    "\n",
    "Conclusion :\n",
    "En associant 10 de ces rondelles en parallèles, on peut avoir une charge utile de 1360 à 1840N, sachant que l'on cherche un effort du ressort environ égal à 10% de l'effort utile, soit 1500N, notre fourchette est exactement celle désirée. On pourra aussi doubler le montage avec des rondelles en séries si l'encombrement nous le permet, pour augmenter la déformation du ressort (A réfléchir après étude approfondie)."
   ]
  },
  {
   "cell_type": "markdown",
   "metadata": {},
   "source": [
    "# [Retour au sommaire de la partie](Selection_catalogue_des_composants.ipynb)\n",
    "# [Retour au sommaire](../sommaire.ipynb)"
   ]
  }
 ],
 "metadata": {
  "kernelspec": {
   "display_name": "Python 3",
   "language": "python",
   "name": "python3"
  },
  "language_info": {
   "codemirror_mode": {
    "name": "ipython",
    "version": 3
   },
   "file_extension": ".py",
   "mimetype": "text/x-python",
   "name": "python",
   "nbconvert_exporter": "python",
   "pygments_lexer": "ipython3",
   "version": "3.6.4"
  }
 },
 "nbformat": 4,
 "nbformat_minor": 2
}
