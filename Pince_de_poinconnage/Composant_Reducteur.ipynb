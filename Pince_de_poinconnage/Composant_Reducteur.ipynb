{
 "cells": [
  {
   "cell_type": "markdown",
   "metadata": {},
   "source": [
    "# Proposition de composant catalogue : Réducteur"
   ]
  },
  {
   "cell_type": "markdown",
   "metadata": {},
   "source": [
    "Pour rappel, nous cherchons un réducteur pour notre moteur brushless avec un rapport de réduction de 177.94. L'arbre de sortie du moteur fait 4mm de diamètre. L'alimentation du moteur est en 12V. Plusieurs choix s'offrent à nous pour ce rapport de réduction très important :"
   ]
  },
  {
   "cell_type": "markdown",
   "metadata": {},
   "source": [
    "    1. Choix n°1 : FAULHABER Réducteur planétaire 38A"
   ]
  },
  {
   "cell_type": "markdown",
   "metadata": {},
   "source": [
    "    Description :"
   ]
  },
  {
   "cell_type": "markdown",
   "metadata": {},
   "source": [
    "Le réducteur planétaire 38A de FAULHABER, est entièrement compatible avec notre moteur. On profite de la compatibilité entre deux composants d'un même fournisseur. \n",
    "\n",
    "Ce type de réducteur peut-être choisi avec plusieurs étages de réduction, entre 1 et 4, pour un rapport de réduction de 4:1 à 1600:1. Les rapports de réduction s'approchant le plus de la valeur qui nous intéresse sont les rapports 160:1 ou 200:1. On préfère choisir un rapport de réduction plus important pour avoir au moins 10Nm en sortie. Il s'agit donc du modèle 38A avec 3 étages de réduction. \n",
    "\n",
    "Il a été conçu pour délivrer en sortie des couples jusqu'à 18Nm en continu, et jusqu'à 29 en usage intermittent.\n",
    "\n",
    "la vitesse maximale recommandée en entrée est de 4500tr/min. Cette valeur, bien que supérieure à la vitesse nominale de notre moteur ne sera pas atteinte, puisque l'on commandera le moteur en vitesse, électroniquement. \n",
    "\n",
    "Purement mécanique, et avec des éléments en acier dans un corps acier, il devrait avoir une durée de vie suffisante pour satisfaire notre usage.\n",
    "\n",
    "Sa masse, pour le modèle qui nous intéresse est de 330g, pour des dimensions cylindriques de 38mm de diamètre (3mm de plus que notre moteur) et 67.6mm de longueur. \n",
    "\n",
    "L'ensemble moteur+réducteur aurait ainsi un encombrement inclus dans un cylindre de 38mm de diamètre pour 145.6mm de long. Cependant, l'assemblage proposé avec notre moteur par le constructeur annonce une longueur totale inférieure, à 131.6mm de longueur.\n",
    "\n",
    "L'ensemble moteur+réducteur a une masse totale de 641g."
   ]
  },
  {
   "cell_type": "markdown",
   "metadata": {},
   "source": [
    "    Datasheet :"
   ]
  },
  {
   "cell_type": "markdown",
   "metadata": {},
   "source": [
    "<img src=\"Images_PJ/CompoRed1.jpg\">"
   ]
  },
  {
   "cell_type": "markdown",
   "metadata": {},
   "source": [
    "<img src=\"Images_PJ/CompoRed2.jpg\">"
   ]
  },
  {
   "cell_type": "markdown",
   "metadata": {},
   "source": [
    "    Avantages :"
   ]
  },
  {
   "cell_type": "markdown",
   "metadata": {},
   "source": [
    "- Même fabricant, composants compatibles, même support technique\n",
    "- Marge de couple en sortie (11.26Nm pour un prérequis à 10Nm)\n",
    "- Réducteur de conception purement mécanique, éléments simples"
   ]
  },
  {
   "cell_type": "markdown",
   "metadata": {},
   "source": [
    "    Inconvénients :"
   ]
  },
  {
   "cell_type": "markdown",
   "metadata": {},
   "source": [
    "- Plage de température d'utilisation annoncée du même acabit que celle du moteur, nécessite confirmation de sa possibilité d'utilisation dans l'espace par contact du fabricant\n",
    "- Nécessite de faire attention pour les dimensionnements des éléments suivant le réducteur avec un couple supérieur à 10Nm\n",
    "- Corps cylindrique du réducteur légèrement plus gros que celui du moteur, nécessite une intégration dans le système avec fixation séparée pour le moteur et le réducteur\n",
    "- Charge de l'arbre maximale à confirmer"
   ]
  },
  {
   "cell_type": "markdown",
   "metadata": {},
   "source": [
    "    2. Choix n°2 : HARMONIC DRIVE HDUA-25-200 / FD-2"
   ]
  },
  {
   "cell_type": "markdown",
   "metadata": {},
   "source": [
    "    Description :"
   ]
  },
  {
   "cell_type": "markdown",
   "metadata": {},
   "source": [
    "L'Harmonic Drive HDUA est un des réducteurs elliptiques différentiels des plus comptacts et \"petit\" de la gamme. Le rapport de réduction peut être en fonction du sous-modèle de 78, 80, 96, 100, ... jusqu'à 320. Les sous-modèles qui nous intéressent sont ceux qui permettent un rapport de réduction de 160, 194 ou 200. Pour nos exigences de masse et de compacité, on choisi le rapport de réduction 200 qui est disponible pour le modèle n°25.\n",
    "\n",
    "Dans cette configuration, le réducteur peut au maximum développer un couple variant de la vitesse d'entrée. Plus la vitesse d'entrée est élevée, moins le couple en sortie est important, ainsi avec une vitesse d'entrée de 3500tr/min, le dispositif peut supporter en sortie un couple théorique de 55Nm. Pour 1450tr/min en entrée, 74Nm. Nos 10Nm seront donc bien supportés en sortie. Pour les vitesses d'entrée inférieures à 500tr/min, le constructeur demande de se rapporter à la valeur de couple max permis pour 500tr/min, soit 108Nm.\n",
    "\n",
    "En terme de dimensions, le dispositif nécessite un arbre d'entrée de 20mm de diamètre. le réducteur sera un cylindre plat, de 40mm de haut pour un diamètre maximum de 85mm. \n",
    "\n",
    "La masse de ce réducteur est de 1kg. "
   ]
  },
  {
   "cell_type": "markdown",
   "metadata": {},
   "source": [
    "    Datasheet sélective :"
   ]
  },
  {
   "cell_type": "markdown",
   "metadata": {},
   "source": [
    "<img src=\"Images_PJ/CompoHarmonic1_1.jpg\">"
   ]
  },
  {
   "cell_type": "markdown",
   "metadata": {},
   "source": [
    "<img src=\"Images_PJ/CompoHarmonic1_2.jpg\">"
   ]
  },
  {
   "cell_type": "markdown",
   "metadata": {},
   "source": [
    "<img src=\"Images_PJ/CompoHarmonic1_3.jpg\">"
   ]
  },
  {
   "cell_type": "markdown",
   "metadata": {},
   "source": [
    "    Avantages :"
   ]
  },
  {
   "cell_type": "markdown",
   "metadata": {},
   "source": [
    "- L'Harmonic Drive est largement surdimensionné, mais il s'agit d'un des modèles les plus compacts et petits du constructeur, il remplit largement notre cahier des charges en terme de transmission des efforts\n",
    "- Ce mécanisme de précision permet de n'avoir aucun glissement entre les composants et d'avoir une usure des matériaux quasi nulle à cause d'éléments déformables\n",
    "- La documentation du constructeur est très détaillée quand à la mise en place du dispositif pour optimiser ses performances\n",
    "- Ce système est extrêmement robuste"
   ]
  },
  {
   "cell_type": "markdown",
   "metadata": {},
   "source": [
    "    Inconvénients :"
   ]
  },
  {
   "cell_type": "markdown",
   "metadata": {},
   "source": [
    "- Ce dispositif requiert une lubrification à huile ou graisse, les informations ne sont pas précisées quand à la fréquence de la lubrification\n",
    "- Ce dispositif est très encombrant avec 85mm de diamètre extérieur, il ne semble pas adapté à notre système (le moteur, à titre de comparaison, a un diamètre extérieur maximal de 35mm)\n",
    "- Ce dispositif pèse trois fois plus lourd que le moteur, et la combinaison moteur+Harmonic Drive atteit 1,3kg\n",
    "- La différence de diamètre entre l'arbre de 4mm en sortie de moteur et les 20mm demandés par le réducteur nécessitera un accouplement avec un arbre intermédiaire qui rajoute de la compléxité à notre système"
   ]
  },
  {
   "cell_type": "markdown",
   "metadata": {},
   "source": [
    "    3. Choix n°3 : __HARMONIC DRIVE HDUR-25-200 / FD-2-GK___"
   ]
  },
  {
   "cell_type": "markdown",
   "metadata": {},
   "source": [
    "    Description :"
   ]
  },
  {
   "cell_type": "markdown",
   "metadata": {},
   "source": [
    "Le réducteur Harmonic Drive HDUR est encore plus compact, polyvalent et léger que l'Harmonic Drive précédent, on peut le voir comme une amélioration du précédent.\n",
    "\n",
    "Il est extrêmement plat, et compact, supporte des couples importants, et permet une coaxialité entre l'entrée et la sortie qui favorise la compacité de l'intégration du composant dans notre système.\n",
    "\n",
    "Suivant les mêmes procédés de sélection que le précédent, on choisirait un modèle HDUR n°25 pour un rapport de réduction de 200. Pour les mêmes raisons que précédemment, l'ordre de grandeur des couples maximaux permis en sortie par l'Harmonic Drive sont largement supérieur à ceux qui devraient être en jeu dans notre système.\n",
    "\n",
    "Il a l'avantage de permettre un diamètre de 6mm en entrée.\n",
    "\n",
    "Ses dimensions sont de 85mm pour le diamètre extérieur maximal, 29mm de long, et il a une masse de 0.8kg."
   ]
  },
  {
   "cell_type": "markdown",
   "metadata": {},
   "source": [
    "    Datasheet sélective :"
   ]
  },
  {
   "cell_type": "markdown",
   "metadata": {},
   "source": [
    "<img src=\"Images_PJ/CompoHarmonic2_1.jpg\">"
   ]
  },
  {
   "cell_type": "markdown",
   "metadata": {},
   "source": [
    "<img src=\"Images_PJ/CompoHarmonic2_2.jpg\">"
   ]
  },
  {
   "cell_type": "markdown",
   "metadata": {},
   "source": [
    "<img src=\"Images_PJ/CompoHarmonic2_3.jpg\">"
   ]
  },
  {
   "cell_type": "markdown",
   "metadata": {},
   "source": [
    "    Avantages :"
   ]
  },
  {
   "cell_type": "markdown",
   "metadata": {},
   "source": [
    "- Robustesse\n",
    "- Mécanisme de précision\n",
    "- Faible longueur\n",
    "- Durabilité"
   ]
  },
  {
   "cell_type": "markdown",
   "metadata": {},
   "source": [
    "    Inconvénients :"
   ]
  },
  {
   "cell_type": "markdown",
   "metadata": {},
   "source": [
    "- Lubrification\n",
    "- Dimensions\n",
    "- Masse\n",
    "- Complexité"
   ]
  },
  {
   "cell_type": "markdown",
   "metadata": {},
   "source": [
    "## Conclusion"
   ]
  },
  {
   "cell_type": "markdown",
   "metadata": {},
   "source": [
    "On optera de manière générale pour les composants remplissant le cahier des charges tout en ayant les masses et les dimensions les plus faibles. Dans ce cas précis du choix du réducteur, nous avons considérer plusieurs technologies distinces, cependant, la solution proposée par le constructeur de notre moteur semble de loin être la meilleure, si on lève les doutes qui persistent encore."
   ]
  },
  {
   "cell_type": "markdown",
   "metadata": {},
   "source": [
    "    Choix définitif :"
   ]
  },
  {
   "cell_type": "markdown",
   "metadata": {},
   "source": [
    "__Réducteur planétaire de marque FAULHABER Modèle 38A à 3étages pour un rapport de réduction de 200:1. __"
   ]
  },
  {
   "cell_type": "markdown",
   "metadata": {},
   "source": [
    "# [Retour au sommaire de la partie](Selection catalogue_des_composants.ipynb)"
   ]
  }
 ],
 "metadata": {
  "anaconda-cloud": {},
  "kernelspec": {
   "display_name": "Python [default]",
   "language": "python",
   "name": "python3"
  },
  "language_info": {
   "codemirror_mode": {
    "name": "ipython",
    "version": 3
   },
   "file_extension": ".py",
   "mimetype": "text/x-python",
   "name": "python",
   "nbconvert_exporter": "python",
   "pygments_lexer": "ipython3",
   "version": "3.5.2"
  }
 },
 "nbformat": 4,
 "nbformat_minor": 1
}
