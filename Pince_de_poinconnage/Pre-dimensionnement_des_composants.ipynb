{
 "cells": [
  {
   "cell_type": "markdown",
   "metadata": {},
   "source": [
    "# Pré-dimensionnement des composants\n",
    "Dans cette section, nous allons procéder à un dimensionnement préliminaire de l'ensemble des composants essentiels à notre système. \n",
    "Pour ce faire, nous étudierons les composants grâce à leur design drivers, ou critères de sélection. Ils sont multiples, et ce sont ces critères qui déterminerons les paramètres des dits composants. Nous expliquerons les design drivers sélectionnés ainsi que la façon dont nous les respecterons dans chaque sous-section. \n",
    "1. [Arbre à Came](Pre-dim_Arbre_a_came.ipynb)\n",
    "1. [Galet Suiveur](Pre-dim_Galet_suiveur.ipynb)\n",
    "1. [Ressort de Rappel](Pre-dim_Ressort_de_rappel.ipynb)\n",
    "1. [Réducteur](Pre-dim_Reducteur.ipynb)\n",
    "1. [Moteur](Pre-dim_moteur.ipynb)\n",
    "1. [Bâti](Pre-dim_Bati.ipynb)\n",
    "1. [Glissière](Pre-dim_Glissiere.ipynb)\n"
   ]
  },
  {
   "cell_type": "markdown",
   "metadata": {},
   "source": [
    "# [Retour au sommaire](../sommaire.ipynb)"
   ]
  }
 ],
 "metadata": {
  "kernelspec": {
   "display_name": "Python 3",
   "language": "python",
   "name": "python3"
  },
  "language_info": {
   "codemirror_mode": {
    "name": "ipython",
    "version": 3
   },
   "file_extension": ".py",
   "mimetype": "text/x-python",
   "name": "python",
   "nbconvert_exporter": "python",
   "pygments_lexer": "ipython3",
   "version": "3.6.4"
  }
 },
 "nbformat": 4,
 "nbformat_minor": 2
}
