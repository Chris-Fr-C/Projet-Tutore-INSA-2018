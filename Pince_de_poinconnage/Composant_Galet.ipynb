{
 "cells": [
  {
   "cell_type": "markdown",
   "metadata": {},
   "source": [
    "# Proposition de composant catalogue : Galet suiveur"
   ]
  },
  {
   "cell_type": "markdown",
   "metadata": {},
   "source": [
    "Dans le prédimensionnement, on a calculé un diamètre d'arbre minimum pour le galet suiveur de 15mm. On a aussi vu que les paramètres dimensionnels calculés n'étaient pas en accord avec la théorie de Hertz et qu'il fallait en conséquence avoir recours à un galet suiveur de taille supérieure.\n",
    "\n",
    "La démarche de sélection du galet suiveur dans cette partie est une approche de type catalogue. On cherche à trouver un galet sans axe (arbre), qui s'assimile à un roulement capable de faire la transmission de l'effort de 16500N à une pièce \"poinçon\" qui est en liaison glissière avec le bâti. De plus, cette pièce poinçon, sera rappelée à sa position initiale avant poinçonnage par le ressort de rappel. "
   ]
  },
  {
   "cell_type": "markdown",
   "metadata": {},
   "source": [
    "1. Choix n°1 : __Galet SKF : STO 17__"
   ]
  },
  {
   "cell_type": "markdown",
   "metadata": {},
   "source": [
    "    Description :"
   ]
  },
  {
   "cell_type": "markdown",
   "metadata": {},
   "source": [
    "On s'est proposé, tout comme les roulements, d'utiliser SKF pour la sélection de notre galet. Il s'agit d'un constructeur fiable, et pour lequel nous disposions des catalogues papier au sein du génie mécanique.\n",
    "\n",
    "SKF propose trois types de galets à rouleaux : les galets de came basés sur des roulements à billes, les galets-supports basés sur des roulements à rouleaux et enfin des galets de came avec axe inclus eux aussi basés sur des roulements à rouleaux.\n",
    "\n",
    "Dans notre cas, nous avons opté pour des galets-support, donc à rouleaux, pour supporter la charge radiale importante de poinçonnage.\n",
    "\n",
    "Le galet STO 17 présente une charge radiale statique de base de 17.6kN et une charge radiale statique maximale de 17.3kN. On considère qu'à de faibles vitesses de rotation comme c'est le cas ici, on s'intéresse aux charges en statique et non en dynamique.\n",
    "\n",
    "En terme de dimensions, le galet présente un diamètre extérieur maximal de 40mm, un diamètre intérieur pour l'arbre de 17mm, soit 10mm de plus que les calculs en première instance de dimensionnement, pour remplir les conditions de la théorie de Hertz. Enfin,sa longueur maximale est de 16mm. \n",
    "\n",
    "Le galet a une masse de 110g."
   ]
  },
  {
   "cell_type": "markdown",
   "metadata": {},
   "source": [
    "    Datasheet :"
   ]
  },
  {
   "cell_type": "markdown",
   "metadata": {},
   "source": [
    "<img src=\"Images_PJ/CompoGalet1.jpg\">"
   ]
  },
  {
   "cell_type": "markdown",
   "metadata": {},
   "source": [
    "    Avantages :"
   ]
  },
  {
   "cell_type": "markdown",
   "metadata": {},
   "source": [
    "- Composant sur catalogue\n",
    "- Remplit les conditions de reprise de charge\n",
    "- Autolubrification"
   ]
  },
  {
   "cell_type": "markdown",
   "metadata": {},
   "source": [
    "    Inconvénients :"
   ]
  },
  {
   "cell_type": "markdown",
   "metadata": {},
   "source": [
    "- Limite de fatigue à vérifier, mais aucun composant ayant des dimensions raisonnables n'affiche sur datasheet une limite de fatigue à 16kN\n",
    "- Dimensions malgré tout conséquentes\n",
    "- Pas de données sur la durée de vie"
   ]
  },
  {
   "cell_type": "markdown",
   "metadata": {},
   "source": [
    "    Conclusions :"
   ]
  },
  {
   "cell_type": "markdown",
   "metadata": {},
   "source": [
    "Ce composant pourrait normallement convenir pour notre utilisation, cependant il nécessite une implémentation délicate en terme de conception avec un arbre propre, un système d'étrier pour transmettre les efforts au \"poinçon\", et des mises en position et maintien en position à travailler ultérieurement, notamment au niveau de la pièce du bâti."
   ]
  },
  {
   "cell_type": "markdown",
   "metadata": {},
   "source": [
    "# [Retour au sommaire de la partie](Selection_catalogue_des_composants.ipynb)"
   ]
  }
 ],
 "metadata": {
  "kernelspec": {
   "display_name": "Python [default]",
   "language": "python",
   "name": "python3"
  },
  "language_info": {
   "codemirror_mode": {
    "name": "ipython",
    "version": 3
   },
   "file_extension": ".py",
   "mimetype": "text/x-python",
   "name": "python",
   "nbconvert_exporter": "python",
   "pygments_lexer": "ipython3",
   "version": "3.5.2"
  }
 },
 "nbformat": 4,
 "nbformat_minor": 1
}
