{
 "cells": [
  {
   "cell_type": "markdown",
   "metadata": {},
   "source": [
    "# Proposition de composant catalogue : Moteur"
   ]
  },
  {
   "cell_type": "markdown",
   "metadata": {},
   "source": [
    "Pour rappel, nous cherchons un moteur le plus compact et léger possible, d'une puissance d'environ 80-100W, pouvant être contrôlé pour en sortie de réducteur fournir un couple d'au moins 10Nm avec une vitesse de l'arbre à cames de 0,15rad/s.\n",
    "\n",
    "Pour cette application, les catalogues des constructeurs suivant ont été consultés : __Oriental Motors, MOOG, Maxon, Faulhaber, Harmonic Drive__. Nous nous sommes par ailleurs servi du portail _www.directindustry.fr/_ pour être plus efficaces lors de nos recherches."
   ]
  },
  {
   "cell_type": "markdown",
   "metadata": {},
   "source": [
    "1. Choix n°1 : __FAULHABER Servomoteur C.C. sans balais 2-pôles 3564 012 B__"
   ]
  },
  {
   "cell_type": "markdown",
   "metadata": {},
   "source": [
    "Description : "
   ]
  },
  {
   "cell_type": "markdown",
   "metadata": {},
   "source": [
    "Il s'agit d'un moteur brushless délivrant une puissance de 126W, avec un couple nominal pour notre modèle de 56,2mNm et une vitesse nominale maxi de 6160 tr/min, soit environ 645 rd/s. \n",
    "\n",
    "La tension nominale en entrée est de 12V. \n",
    "\n",
    "Le diamètre de l'arbre de sortie est de 4mm et en sortie directe, l'arbre peut supporter une charge radiale maximale confortable de 112N. \n",
    "\n",
    "Le moteur est doté d'un capteur Hall pour avoir des informations en direct sur la position angulaire du moteur. Le sens de rotation est réversible.\n",
    "\n",
    "Enfin, son encombrement total est de 78mm en longueur, arbre compris, pour un corps cylindrique de 35mm de diamètre.\n",
    "\n",
    "La masse du moteur est de 311g."
   ]
  },
  {
   "cell_type": "markdown",
   "metadata": {},
   "source": [
    "<img src=\"Images_PJ/CompoMoteur1.jpg\">"
   ]
  },
  {
   "cell_type": "markdown",
   "metadata": {},
   "source": [
    "<img src=\"Images_PJ/CompoMoteur2.jpg\">"
   ]
  },
  {
   "cell_type": "markdown",
   "metadata": {},
   "source": [
    "Avantages :"
   ]
  },
  {
   "cell_type": "markdown",
   "metadata": {},
   "source": [
    "- Faible encombrement\n",
    "- Masse raisonnable\n",
    "- Puissance largement suffisante\n",
    "- Faible tension d'entrée\n",
    "- Constructeur implanté en Suisse, Allemagne, Etats-Unis : Support possible en français\n",
    "- Compatibilité aisée avec certains réducteurs du même constructeur et certaines électroniques de commande"
   ]
  },
  {
   "cell_type": "markdown",
   "metadata": {},
   "source": [
    "Inconvénients :"
   ]
  },
  {
   "cell_type": "markdown",
   "metadata": {},
   "source": [
    "- La plage de température d'utilisation sur la datasheet est de -30°C à 135°C, il nous faudra contacter le constructeur pour savoir si une utilisation dans une plage de température plus étendue pose problème\n",
    "- Aucune information sur le prix n'est communiquée sur le catalogue\n",
    "- Nécessite un contrôle électronique de la vitesse pour une utilisation à une fraction de la vitesse nominale"
   ]
  },
  {
   "cell_type": "markdown",
   "metadata": {},
   "source": [
    "Conclusions : "
   ]
  },
  {
   "cell_type": "markdown",
   "metadata": {},
   "source": [
    "Avec un couple nominal de 0.0562 mNm, il nous faut prévoir un rapport de réduction d'au moins 10/0.0562 = 177.94 pour avoir les 10Nm requis en sortie. \n",
    "\n",
    "Outre le choix du réducteur, ce moteur devrait convenir à notre utilisation, il faut envisager d'entrer en contact avec le fabricant pour avoir plus d'informations notamment sur le prix et la température."
   ]
  },
  {
   "cell_type": "markdown",
   "metadata": {},
   "source": [
    "# [Retour au sommaire de la partie](Selection_catalogue_des_composants.ipynb)\n",
    "# [Retour au sommaire](../Sommaire.ipynb)"
   ]
  }
 ],
 "metadata": {
  "anaconda-cloud": {},
  "kernelspec": {
   "display_name": "Python [default]",
   "language": "python",
   "name": "python3"
  },
  "language_info": {
   "codemirror_mode": {
    "name": "ipython",
    "version": 3
   },
   "file_extension": ".py",
   "mimetype": "text/x-python",
   "name": "python",
   "nbconvert_exporter": "python",
   "pygments_lexer": "ipython3",
   "version": "3.5.2"
  }
 },
 "nbformat": 4,
 "nbformat_minor": 1
}
