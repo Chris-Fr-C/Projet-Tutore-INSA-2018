{
 "cells": [
  {
   "cell_type": "markdown",
   "metadata": {},
   "source": [
    "# Proposition de composant catalogue : Guidage en rotation de l'arbre de la came"
   ]
  },
  {
   "cell_type": "markdown",
   "metadata": {},
   "source": [
    "    Description :"
   ]
  },
  {
   "cell_type": "markdown",
   "metadata": {},
   "source": [
    "Le but de ce composant est d'assurer le guidage en rotation de l'arbre de la came, par lequel devra transiter l'effort de 15000N +10% (ressort de rappel), soit un effort de 16500N. Pour un effort aussi conséquent sur un arbre, il est préférable d'utiliser des roulements à billes. Comme la force est radiale, on privilégiera des roulements à rouleaux cylindriques. Comme la vitesse de rotation théorique de l'arbre est la même que celle de la came, soit 0.15rd/s, on dimensionnera en fonction d'un effort statique à supporter d'au moins 16500N."
   ]
  },
  {
   "cell_type": "markdown",
   "metadata": {},
   "source": [
    "    1. Choix n°1 : Roulements à billes : SKF N 205 ECP"
   ]
  },
  {
   "cell_type": "markdown",
   "metadata": {},
   "source": [
    "    Description :"
   ]
  },
  {
   "cell_type": "markdown",
   "metadata": {},
   "source": [
    "SKF est le constructeur de référence en terme de roulements à billes. \n",
    "\n",
    "On choisit pour cette fonction des roulements à rouleaux cylindriques à une rangée. \n",
    "\n",
    "De part sa géométrie, le roulement N 205 ECP permet la mise en place simplifiée d'arrêts axiaux. Il supporte une charge radiale statique maximale de 27kN et une charge radiale dynamique maximale de 32.5kN. Il est certes là encore surdimensionné, mais c'est celui qui concilie le mieux le diamètre extérieur minimal en supportant au moins les efforts nécessaires.\n",
    "\n",
    "En terme de dimensions, le diamètre de l'arbre indiqué est de 25mm, le diamètre extérieur est de 52mm, la \"hauteur\" du roulement est de 15mm.\n",
    "\n",
    "La masse pour un roulement est de 130g."
   ]
  },
  {
   "cell_type": "markdown",
   "metadata": {},
   "source": [
    "    Datasheet :"
   ]
  },
  {
   "cell_type": "markdown",
   "metadata": {},
   "source": [
    "<img src=\"Images_PJ/CompoRou1ements1.jpg\">"
   ]
  },
  {
   "cell_type": "markdown",
   "metadata": {},
   "source": [
    "    Avantages :"
   ]
  },
  {
   "cell_type": "markdown",
   "metadata": {},
   "source": [
    "- Efforts supportés largement\n",
    "- Compact en terme de longueur\n",
    "- Robuste et autolubrifié"
   ]
  },
  {
   "cell_type": "markdown",
   "metadata": {},
   "source": [
    "    Inconvénients :"
   ]
  },
  {
   "cell_type": "markdown",
   "metadata": {},
   "source": [
    "- Diamètre extérieur important\n",
    "- Diamètre de l'arbre de la came à adapter (24mm->25mm) OU accouplement à faire pour gagner 1mm de diamètre\n",
    "- Limite en fatigue à vérifier"
   ]
  },
  {
   "cell_type": "markdown",
   "metadata": {},
   "source": [
    "    Conclusions :"
   ]
  },
  {
   "cell_type": "markdown",
   "metadata": {},
   "source": [
    "Ce composant semble tout à fait convenir à notre usage.\n",
    "\n",
    "La masse totale du système à ce stade, comprenant moteur, réducteur et roulements est de 641+2*130=901g."
   ]
  },
  {
   "cell_type": "markdown",
   "metadata": {},
   "source": [
    "# [Retour au sommaire de la partie](Selection_catalogue_des_composants.ipynb)"
   ]
  }
 ],
 "metadata": {
  "anaconda-cloud": {},
  "kernelspec": {
   "display_name": "Python [default]",
   "language": "python",
   "name": "python3"
  },
  "language_info": {
   "codemirror_mode": {
    "name": "ipython",
    "version": 3
   },
   "file_extension": ".py",
   "mimetype": "text/x-python",
   "name": "python",
   "nbconvert_exporter": "python",
   "pygments_lexer": "ipython3",
   "version": "3.5.2"
  }
 },
 "nbformat": 4,
 "nbformat_minor": 1
}
