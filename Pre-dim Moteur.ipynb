{
 "cells": [
  {
   "cell_type": "markdown",
   "metadata": {},
   "source": [
    "# Pre-dimensionnement : Moteur"
   ]
  },
  {
   "cell_type": "markdown",
   "metadata": {},
   "source": [
    "Notre choix se porte sur un moteur DC brushless.\n",
    "\n",
    "L'inertie du moteur sera donnée par le composant catalogue.\n",
    "On développera par la suite le point lié au refroidissement des bobinages en milieu spatial."
   ]
  },
  {
   "cell_type": "markdown",
   "metadata": {},
   "source": [
    "    1. Calcul du couple maximum à fournir"
   ]
  },
  {
   "cell_type": "markdown",
   "metadata": {},
   "source": [
    "En se basant sur les calculs de dimensionnement de la came, l'évolution du couple au cours d'un cycle de poiçonnage est la suivante :\n",
    "\n",
    "<img src=\"Images PJ/Flo/Couple_came_graph.png\">\n",
    "\n",
    "Le couple maximum que doit fournir le moteur sera donc de 10Nm, lors de la dernière phase du cycle de poinçonnage. Après s'être approché à une vitesse de 5mm/s, on poinçonne avec une course de 3mm éxecutée à 0,1mm/s. C'est ce couple de 10Nm, en sortie de réducteur, qui va permettre de développer une force de 15000N au niveau du poinçon."
   ]
  },
  {
   "cell_type": "markdown",
   "metadata": {},
   "source": [
    "    2. Calcul de la puissance nominale du moteur"
   ]
  },
  {
   "cell_type": "markdown",
   "metadata": {
    "collapsed": true
   },
   "source": [
    "Effort  pic à fournir (en N) \\* 1.1 (Force de rappel du ressort en N) \\* Vitesse d'approche (en mm/s) \n",
    "\n",
    "$ AN : 15000\\times1.1\\times5\\times10^{-3} = 82.5 W $\n",
    "\n",
    "On va chercher des moteurs brushless DC d'environ 90 à 100W. "
   ]
  },
  {
   "cell_type": "markdown",
   "metadata": {},
   "source": [
    "    3. Vitesse nominale du moteur"
   ]
  },
  {
   "cell_type": "markdown",
   "metadata": {},
   "source": [
    "En se basant sur les calculs de dimensionnement de la came, on a une vitesse angulaire de 0.15 rad/s.\n",
    "Cette vitesse est très faible, elle correspond à 1.43 tr/min. La vitesse ne sera donc pas un critère déterminant lors de la sélection du moteur dans la mesure ou tous les moteurs sont au moins capables d'assurer cette vitesse. On essaiera de faire en sorte que la vitesse nominale du moteur soit la plus basse possible, pour asservir le moteur à une vitesse raisonnable vis à vis de ses possibilités."
   ]
  },
  {
   "cell_type": "markdown",
   "metadata": {},
   "source": [
    "    4. Moteurs pour usage spatial"
   ]
  },
  {
   "cell_type": "markdown",
   "metadata": {},
   "source": [
    "En application spatiale, les moteurs utilisés sont des moteurs brushless DC de très petite taille, qui ont de grandes vitesses de de rotation pour un couple de l'ordre du mNm, jusqu'à 500mNm pour les moteurs spéciaux à fort couple. \n",
    "\n",
    "On trouve les mêmes caractéristiques pour les micromoteurs utilisés dans la robotique, et dans les domaines de la santé.\n",
    "\n",
    "Il est donc nécessaire d'utiliser un réducteur à fort rapport de réduction pour pouvoir gagner de la masse sur le moteur mais aussi de l'espace pour notre système : arbre, came, poinçon, pince... et réduire le coup d'envoi dans l'espace de notre poinçonneuse. "
   ]
  }
 ],
 "metadata": {
  "anaconda-cloud": {},
  "kernelspec": {
   "display_name": "Python [default]",
   "language": "python",
   "name": "python3"
  },
  "language_info": {
   "codemirror_mode": {
    "name": "ipython",
    "version": 3
   },
   "file_extension": ".py",
   "mimetype": "text/x-python",
   "name": "python",
   "nbconvert_exporter": "python",
   "pygments_lexer": "ipython3",
   "version": "3.5.2"
  }
 },
 "nbformat": 4,
 "nbformat_minor": 1
}
