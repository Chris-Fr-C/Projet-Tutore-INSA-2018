{
 "cells": [
  {
   "cell_type": "markdown",
   "metadata": {},
   "source": [
    "# Sommaire\n",
    "0. [Introduction du cahier des charges](Introduction et CDC.ipynb) /_Mathieu Lecler_\n",
    "0. [Choix de la technologie de poiçonnage] () /_Mathieu Lecler_\n",
    "0. [Cinématique globale du système] () /_Thomas Asencio_\n",
    "0. [Architecture du système] () /_Thomas Asencio_\n",
    "0. [Pré-dimensionnement des composants] () /_Thomas Asencio - Mathieu Lecler - Florian Holmiere_\n",
    "    1. [Arbre à came]\n",
    "    1. [Galet suiveur]\n",
    "    1. [Ressort de rappel]\n",
    "    1. [Moteur]\n",
    "    1. [Réducteur]\n",
    "    1. [Bâti]\n",
    "0. [Première selection catalogue des composants] () /_Thomas Asencio - Mathieu Lecler - Florian Holmiere_\n",
    "    1. [Roulements à billes]\n",
    "    1. [Galet suiveur]\n",
    "    1. [Moteur]\n",
    "    1. [Réducteur]\n",
    "    1. [Ressort de rappel]\n",
    "0. [Optimisation des choix de composants] () /_Christophe Corsi_\n",
    "    1. [Présentation]\n",
    "    1. [Pré-processing standardisation]\n",
    "    1. [Modèle de sustitution]\n",
    "        2. [Surface de réponse]\n",
    "        2. [Loi en puissance variable]\n",
    "        2. [Arbre de régression]\n",
    "    1. [Ajustement de l'algorithme]\n",
    "        2. [Ajustement de la projection]\n",
    "    1. [Optimisation]\n",
    "        2. [Modélisation du problème d'optimisation]\n",
    "        2. [Résultats d'optimisation]\n",
    "0. [Pré-processing de données catalogue] () /_Matthieu Fontaine - Victor Ayala_\n",
    "    1. [Filtrage Min-Max]\n",
    "    1. [Filtrage de Pareto]"
   ]
  }
 ],
 "metadata": {
  "anaconda-cloud": {},
  "kernelspec": {
   "display_name": "Python 3",
   "language": "python",
   "name": "python3"
  },
  "language_info": {
   "codemirror_mode": {
    "name": "ipython",
    "version": 3
   },
   "file_extension": ".py",
   "mimetype": "text/x-python",
   "name": "python",
   "nbconvert_exporter": "python",
   "pygments_lexer": "ipython3",
   "version": "3.6.4"
  }
 },
 "nbformat": 4,
 "nbformat_minor": 1
}
