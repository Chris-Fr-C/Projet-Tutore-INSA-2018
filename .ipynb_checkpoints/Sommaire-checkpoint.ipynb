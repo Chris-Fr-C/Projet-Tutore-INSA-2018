{
 "cells": [
  {
   "cell_type": "markdown",
   "metadata": {},
   "source": [
    "# Sommaire\n",
    "0. [Introduction du cahier des charges](Pince de poinconnage/Introduction et CDC.ipynb) /_Mathieu Lecler_\n",
    "0. [Choix de la technologie de poinçonnage](Pince de poinconnage/Choix de la technologie de la pince.ipynb) /_Mathieu Lecler_\n",
    "0. [Cinématique globale du système](Pince de poinconnage/Cinématique globale du système.ipynb) /_Thomas Asencio_\n",
    "0. [Architecture du système](Pince de poinconnage/Architecture du systeme.ipynb) /_Thomas Asencio_\n",
    "0. [Pré-dimensionnement des composants](Pince de poinconnage/Pre-dimensionnement des composants.ipynb) /_Thomas Asencio - Mathieu Lecler - Florian Holmiere_\n",
    "    1. [Arbre à came](Pince de poinconnage/Pre-dim Arbre à came.ipynb)\n",
    "    1. [Galet suiveur](Pince de poinconnage/Pre-dim Galet suiveur.ipynb)\n",
    "    1. [Ressort de rappel](Pince de poinconnage/Pre-dim Ressort de rappel.ipynb)\n",
    "    1. [Moteur](Pince de poinconnage/Pre-dim Moteur.ipynb)\n",
    "    1. [Réducteur](Pince de poinconnage/Pre-dim Réducteur.ipynb)\n",
    "    1. [Bâti](Pince de poinconnage/Pre-dim Bati.ipynb)\n",
    "0. [Première selection catalogue des composants](Pince de poinconnage/Selection catalogue des composants.ipynb) /_Florian Holmiere_\n",
    "    1. [Moteur](Pince de poinconnage/Moteur choisi.ipynb)\n",
    "    1. [Réducteur](Pince de poinconnage/Réducteur choisi.ipynb)\n",
    "    1. [Roulements à billes](Pince de poinconnage/Roulements choisis.ipynb)\n",
    "    1. [Galet suiveur](Pince de poinconnage/Galet choisi.ipynb)\n",
    "    1. [Ressort de rappel](Pince de poinconnage/Ressort choisi.ipynb)\n",
    "0. [Optimisation des choix de composants](modeles/modeles_presentation.ipynb) /_Christophe Corsi_\n",
    "    1. [Présentation](modeles/modeles_presentation.ipynb)\n",
    "    1. [Pré-processing](modeles/preprocessing.ipynb)\n",
    "    1. Modèles de sustitution\n",
    "        2. [Surface de réponse](modeles/surface_de_reponse.ipynb)\n",
    "        2. [Loi en puissance variable](modeles/puissance_variable.ipynb)\n",
    "        2. [Arbre de régression](modeles/arbres_regression.ipynb)\n",
    "    1. [Ajustement de l'algorithme](modeles/ajustement.ipynb)\n",
    "        2. [Ajustement de la projection](modeles/ajustement.ipynb)\n",
    "    1. [Optimisation](modeles/cas_vega.ipynb)\n",
    "        2. [Modélisation du problème d'optimisation](modeles/cas_vega.ipynb)\n",
    "        2. [Résultats d'optimisation](modeles/cas_vega.ipynb)\n",
    "0. [Filtrage de données catalogue] () /_Matthieu Fontaine - Victor Ayala_\n",
    "    1. [Filtrage Min-Max]\n",
    "    1. [Filtrage de Pareto]"
   ]
  }
 ],
 "metadata": {
  "anaconda-cloud": {},
  "kernelspec": {
   "display_name": "Python 3",
   "language": "python",
   "name": "python3"
  },
  "language_info": {
   "codemirror_mode": {
    "name": "ipython",
    "version": 3
   },
   "file_extension": ".py",
   "mimetype": "text/x-python",
   "name": "python",
   "nbconvert_exporter": "python",
   "pygments_lexer": "ipython3",
   "version": "3.6.0"
  }
 },
 "nbformat": 4,
 "nbformat_minor": 1
}
