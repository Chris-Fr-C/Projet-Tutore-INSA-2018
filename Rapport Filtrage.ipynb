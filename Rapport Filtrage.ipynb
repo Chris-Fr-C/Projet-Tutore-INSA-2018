{
 "cells": [
  {
   "cell_type": "code",
   "execution_count": 3,
   "metadata": {},
   "outputs": [],
   "source": [
    "if __name__ == '__main__':\n",
    "      import sys\n",
    "      import numpy as np\n",
    "      import matplotlib as mpl\n",
    "      import matplotlib.pyplot as plt\n",
    "      import pandas as pd\n",
    "      import itertools as it\n",
    "      import seaborn as sns\n",
    "      from sklearn.cluster import KMeans\n",
    "      from PyQt5 import QtWidgets\n",
    "      sns.set_context('talk')\n",
    "      np.warnings.filterwarnings(\"ignore\")\n",
    "if not QtWidgets.QApplication.instance():\n",
    "      app = QtWidgets.QApplication(sys.argv)\n",
    "else:\n",
    "      app = QtWidgets.QApplication.instance()"
   ]
  },
  {
   "cell_type": "code",
   "execution_count": 11,
   "metadata": {},
   "outputs": [],
   "source": [
    "pokemon = pd.read_csv('pokemon.csv')\n",
    "a = pokemon.iloc[:, 0].values\n",
    "b = pokemon.iloc[:, 4:11].values\n",
    "pokemonArray = np.insert(b, 0, a, axis=1)"
   ]
  },
  {
   "cell_type": "markdown",
   "metadata": {},
   "source": [
    "# Filtrage Préliminaire"
   ]
  },
  {
   "cell_type": "code",
   "execution_count": 33,
   "metadata": {},
   "outputs": [],
   "source": [
    "class filtrage :\n",
    "    def __init__(self, data:np.array)->None:\n",
    "        \"\"\"Attribution des valeurs à Original Data et modifiable data\"\"\"\n",
    "        self._originalData = data\n",
    "        self._lastData = data\n",
    "        #renvoie la liste des valeurs minimales pour tous les axes, reshape pour forcer un vecteur\n",
    "        minbound = np.amin(data, axis=0).reshape(-1,)\n",
    "        maxbound = np.amax(data, axis=0).reshape(-1,)\n",
    "        #a et b se baladent dans les liste des min et max, et renvoi liste de tuples pour chaque axes\n",
    "        self._initialboundaries = [(a, b) for a, b in zip(minbound, maxbound)]\n",
    "        self.modifiedData = data   \n",
    "        return\n",
    "    def brushing (self, bornes:list, last = True)->np.array:    \n",
    "        temp = self._lastData if last else self._originalData\n",
    "        for axe in range(self._originalData.shape[1]):\n",
    "            temp = np.array([row for row in temp if  bornes[axe,0]<row[axe] and row[axe]<bornes[axe,1]])\n",
    "        self._lastData = temp\n",
    "        return temp\n",
    "    def paretoMulti (self, axes:np.array, modified = True )->np.array:\n",
    "        if modified == True :\n",
    "            datas = self.modifiedData\n",
    "        else:\n",
    "            datas = self._originalData\n",
    "        axes = np.sort(axes)#Tri des axes\n",
    "        #Création de la liste des axes à enlever\n",
    "        axesASupprimer = np.array([])\n",
    "        for i in np.arange(datas.shape[1]):\n",
    "            if i not in axes:\n",
    "                axesASupprimer = np.append(axesASupprimer, i)\n",
    "            #Suppresion des axes inutiles\n",
    "        datasModif = np.delete(datas, axesASupprimer, 1)\n",
    "            #Vérifier si les points sont pareto optimaux ou non\n",
    "            #Retourne un tableau de booléen pour chaque point\n",
    "            #Création du tableau de booléens, de la même taille que le nb de pts\n",
    "        isPareto = np.ones(datasModif.shape[0], dtype =bool)\n",
    "            #Créé le tableau de résultat qui contient uniquement les point Po*\n",
    "            #print('is pareto ', isPareto)\n",
    "        for i, value in enumerate(datasModif):\n",
    "            for j, other_value in enumerate(datasModif):\n",
    "                different_terms = (i!=j)#Il ne faut pas que deux points identiques se comparent entre eux\n",
    "                if different_terms and isPareto[i] == True: #On sort dès que l'on trouve un comparaison Fausse\n",
    "                    isPareto[i] = np.all(np.any(value>other_value))\n",
    "        result = None\n",
    "        for index,v in enumerate(isPareto):\n",
    "            if v:\n",
    "                if result is None:\n",
    "                    # first term\n",
    "                    result = np.copy(datas[index].reshape(1,-1))\n",
    "                else:\n",
    "                    # other terms\n",
    "                    result = np.concatenate( (result,datas[index].reshape(1,-1)),axis=0 )\n",
    "            #retour\n",
    "        self.modifiedData = result\n",
    "        return result"
   ]
  },
  {
   "cell_type": "markdown",
   "metadata": {},
   "source": [
    "## Filtrage Min / Max"
   ]
  },
  {
   "cell_type": "code",
   "execution_count": 17,
   "metadata": {},
   "outputs": [
    {
     "data": {
      "image/png": "[encoded data removed]",
      "text/plain": [
       "<matplotlib.figure.Figure at 0x2981cd1f358>"
      ]
     },
     "metadata": {},
     "output_type": "display_data"
    }
   ],
   "source": [
    "tryhard = filtrage(pokemonArray)\n",
    "\n",
    "bornes =np.array([(0,800),\n",
    "            (600,800),\n",
    "         (0, 200),\n",
    "         (0, 200),\n",
    "         (0, 200),\n",
    "         (0, 200),\n",
    "         (0, 200),\n",
    "         (0, 200)\n",
    "         ])\n",
    "test = tryhard.brushing(bornes)\n",
    "plt.scatter(test[:,2], test[:,3])\n",
    "plt.show()"
   ]
  },
  {
   "cell_type": "markdown",
   "metadata": {},
   "source": [
    "## Filtrage de Pareto"
   ]
  },
  {
   "cell_type": "code",
   "execution_count": 36,
   "metadata": {},
   "outputs": [
    {
     "ename": "TypeError",
     "evalue": "'NoneType' object is not subscriptable",
     "output_type": "error",
     "traceback": [
      "\u001b[1;31m---------------------------------------------------------------------------\u001b[0m",
      "\u001b[1;31mTypeError\u001b[0m                                 Traceback (most recent call last)",
      "\u001b[1;32m<ipython-input-36-1b4b0f03f6be>\u001b[0m in \u001b[0;36m<module>\u001b[1;34m()\u001b[0m\n\u001b[0;32m      1\u001b[0m \u001b[0mchoixPareto\u001b[0m \u001b[1;33m=\u001b[0m \u001b[0mnp\u001b[0m\u001b[1;33m.\u001b[0m\u001b[0marray\u001b[0m\u001b[1;33m(\u001b[0m\u001b[1;33m[\u001b[0m\u001b[1;36m2\u001b[0m\u001b[1;33m,\u001b[0m\u001b[1;36m3\u001b[0m\u001b[1;33m]\u001b[0m\u001b[1;33m)\u001b[0m\u001b[1;31m#Liste des axes que l'on choisi pour Pareto\u001b[0m\u001b[1;33m\u001b[0m\u001b[0m\n\u001b[0;32m      2\u001b[0m \u001b[0mtest\u001b[0m \u001b[1;33m=\u001b[0m \u001b[0mtryhard\u001b[0m\u001b[1;33m.\u001b[0m\u001b[0mparetoMulti\u001b[0m\u001b[1;33m(\u001b[0m\u001b[0mchoixPareto\u001b[0m\u001b[1;33m)\u001b[0m\u001b[1;31m#Appel du filtrage pareto\u001b[0m\u001b[1;33m\u001b[0m\u001b[0m\n\u001b[1;32m----> 3\u001b[1;33m \u001b[0mtest\u001b[0m \u001b[1;33m=\u001b[0m \u001b[0mtest\u001b[0m\u001b[1;33m[\u001b[0m\u001b[0mtest\u001b[0m\u001b[1;33m[\u001b[0m\u001b[1;33m:\u001b[0m\u001b[1;33m,\u001b[0m\u001b[1;36m2\u001b[0m\u001b[1;33m]\u001b[0m\u001b[1;33m.\u001b[0m\u001b[0margsort\u001b[0m\u001b[1;33m(\u001b[0m\u001b[1;33m)\u001b[0m\u001b[1;33m]\u001b[0m\u001b[1;33m\u001b[0m\u001b[0m\n\u001b[0m\u001b[0;32m      4\u001b[0m \u001b[0mplt\u001b[0m\u001b[1;33m.\u001b[0m\u001b[0mscatter\u001b[0m\u001b[1;33m(\u001b[0m\u001b[0mpokemonArray\u001b[0m\u001b[1;33m[\u001b[0m\u001b[1;33m:\u001b[0m\u001b[1;33m,\u001b[0m\u001b[1;36m2\u001b[0m\u001b[1;33m]\u001b[0m\u001b[1;33m,\u001b[0m \u001b[0mpokemonArray\u001b[0m\u001b[1;33m[\u001b[0m\u001b[1;33m:\u001b[0m\u001b[1;33m,\u001b[0m\u001b[1;36m3\u001b[0m\u001b[1;33m]\u001b[0m\u001b[1;33m,\u001b[0m \u001b[0mc\u001b[0m\u001b[1;33m=\u001b[0m\u001b[1;34m'red'\u001b[0m\u001b[1;33m)\u001b[0m\u001b[1;33m\u001b[0m\u001b[0m\n\u001b[0;32m      5\u001b[0m \u001b[0mplt\u001b[0m\u001b[1;33m.\u001b[0m\u001b[0mscatter\u001b[0m\u001b[1;33m(\u001b[0m\u001b[0mtest\u001b[0m\u001b[1;33m[\u001b[0m\u001b[1;33m:\u001b[0m\u001b[1;33m,\u001b[0m\u001b[1;36m2\u001b[0m\u001b[1;33m]\u001b[0m\u001b[1;33m,\u001b[0m \u001b[0mtest\u001b[0m\u001b[1;33m[\u001b[0m\u001b[1;33m:\u001b[0m\u001b[1;33m,\u001b[0m\u001b[1;36m3\u001b[0m\u001b[1;33m]\u001b[0m\u001b[1;33m,\u001b[0m\u001b[0mmarker\u001b[0m\u001b[1;33m=\u001b[0m\u001b[1;34m'+'\u001b[0m\u001b[1;33m,\u001b[0m \u001b[0mc\u001b[0m\u001b[1;33m=\u001b[0m\u001b[1;34m'black'\u001b[0m\u001b[1;33m,\u001b[0m \u001b[0mlabel\u001b[0m\u001b[1;33m=\u001b[0m\u001b[1;34m'MultiAxis Pareto'\u001b[0m\u001b[1;33m)\u001b[0m\u001b[1;33m\u001b[0m\u001b[0m\n",
      "\u001b[1;31mTypeError\u001b[0m: 'NoneType' object is not subscriptable"
     ]
    }
   ],
   "source": [
    "tryhard = filtrage(pokemonArray)\n",
    "choixPareto = np.array([2,3])#Liste des axes que l'on choisi pour Pareto\n",
    "test = tryhard.paretoMulti(choixPareto)#Appel du filtrage pareto\n",
    "test = test[test[:,2].argsort()]\n",
    "plt.scatter(pokemonArray[:,2], pokemonArray[:,3], c='red')\n",
    "plt.scatter(test[:,2], test[:,3],marker='+', c='black', label='MultiAxis Pareto')\n",
    "plt.show()"
   ]
  }
 ],
 "metadata": {
  "celltoolbar": "Attachments",
  "kernelspec": {
   "display_name": "Python 3",
   "language": "python",
   "name": "python3"
  },
  "language_info": {
   "codemirror_mode": {
    "name": "ipython",
    "version": 3
   },
   "file_extension": ".py",
   "mimetype": "text/x-python",
   "name": "python",
   "nbconvert_exporter": "python",
   "pygments_lexer": "ipython3",
   "version": "3.6.4"
  }
 },
 "nbformat": 4,
 "nbformat_minor": 2
}
