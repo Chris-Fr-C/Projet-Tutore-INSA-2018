{
 "cells": [
  {
   "cell_type": "markdown",
   "metadata": {},
   "source": [
    "# Preprocessing des données catalogue\n",
    "## Généralités\n",
    "Pour optimiser le temps de calcul et de traitement des nombreuses données disponibles dans les catalogues des constructeurs, il faut en faire un preprocessing. De plus, il est également important de vérifier qu'il n'y ai pas deux références identiques car l'interpolation utilisée dans la phase d'optimisation ne peux pas fonctionner si il existe un doublon.\n",
    "Par conséquent, nous utilisons deux algorithmes que nous détaillerons dans cette partie, un algorithme de _filtrage minimum maximum_ et un algorithme de _filtrage de Pareto_.\n",
    "\n",
    "Pour le preprocessing nous utilisons une classe qui contient deux méthodes qui effectuerons les deux algorithme de preprocessing.\n",
    "Pour des raisons d'optimisation et de simplicité de code, nous avons utilisés le package _numpy_ de python.\n",
    "Pour cette raison, la class preprocessing accepte comme argument data de type array numpy (_np.array_) qui contient les données que nous souhaitons filtrer.\n",
    "Le constructeur de la classe créé trois variables data de type np.array, \\__originalData_, qui correspond à une copie des données originales utilisées en paramètres, qui servent uniquement pour des raisons de backup. Les \\__lastData_ correspondent elles aux dernières données après modifications par les algorithmes des méthodes de la classe.\n",
    "Finalement, les _modifiedData_ aux seules données publiques de la classe et comprennent les données avec les modifications succécives par les algorithme de préprocessing.\n",
    "Pour les besoins de la méthode de filtrage minimum maximum, il est également nécéssaire de garder en mémoire les valeurs maximales et minimales pour les données sur différents axes qui sont stockées dans la liste \\__initialboundaries_.\n",
    "\n",
    "Cependant, comme les donées catalogues sont fournies sous forme de fichier csv (coma separated value, soit données séparées par des virgules), nous devons tout d'abord les importer et les exporter sous la forme de np.array. Pour cela nous utilisons le package pandas, initialement prévu pour le traitement statistique, pour lire le fichier csv. Il faut cependant faire attention à ne pas avoir de ligne de texte dans le fichier avant de le convertir en nd.array."
   ]
  },
  {
   "cell_type": "code",
   "execution_count": 2,
   "metadata": {},
   "outputs": [
    {
     "data": {
      "text/plain": [
       "<matplotlib.collections.PathCollection at 0x1b79bb48b70>"
      ]
     },
     "execution_count": 2,
     "metadata": {},
     "output_type": "execute_result"
    }
   ],
   "source": [
    "import numpy as np\n",
    "import matplotlib as mpl\n",
    "import matplotlib.pyplot as plt\n",
    "import pandas as pd\n",
    "\n",
    "class preprocessing :\n",
    "    \n",
    "    def __init__(self, data:np.array)->None:\n",
    "        \"\"\"Attribution des valeurs à Original Data et modifiable data\"\"\"\n",
    "        self._originalData = data\n",
    "        self._lastData = data\n",
    "        #renvoie la liste des valeurs minimales pour tous les axes, reshape pour forcer un vecteur\n",
    "        minbound = np.amin(data, axis=0).reshape(-1,)\n",
    "        maxbound = np.amax(data, axis=0).reshape(-1,)\n",
    "        #a et b se baladent dans les liste des min et max, et renvoi liste de tuples pour chaque axes\n",
    "        self._initialboundaries = [(a, b) for a, b in zip(minbound, maxbound)]\n",
    "        self.modifiedData = data   \n",
    "        return\n",
    "    \n",
    "motors = pd.read_csv('motorsdatas.csv').values\n",
    "plt.scatter(motors[:,2], motors[:,3])"
   ]
  },
  {
   "cell_type": "markdown",
   "metadata": {},
   "source": [
    "## Filtrage Min / Max"
   ]
  },
  {
   "cell_type": "markdown",
   "metadata": {},
   "source": [
    "Le principe du filtrage minimum maximum est de conserver seuelement les données dont les valeurs sont comprises entre deux bornes. Pour cela, la méthode filtrage prend en argument une variable _bornes_ de type list, qui contient les bornes pour chaque axe. Le deuxième paramètre facultatif est un booléen qui permet de choisir si l'on veut utiliser les \\__originalData_, c'est à dire revenir à zéro au niveau des modifications éventuellement apportées, ou utiliser les dernières modifiées, ce que la méthode fait par défaut.\n",
    "Par la suite, l'algorithme parcourt un à un les axes du nd.array pour comparer chacune des valeurs aux bornes pour pouvoir les intégrer ou non au nd.array _temp_ qui sera transmis en résultat, en devenant également les \\__lastData_.\n"
   ]
  },
  {
   "cell_type": "code",
   "execution_count": 3,
   "metadata": {},
   "outputs": [],
   "source": [
    "def filtrage (self, bornes:list, last = True)->np.array:    \n",
    "        temp = self._lastData if last else self._originalData\n",
    "        for axe in range(self._originalData.shape[1]):\n",
    "            temp = np.array([row for row in temp if  bornes[axe,0]<row[axe] and row[axe]<bornes[axe,1]])\n",
    "        self._lastData = temp\n",
    "        return temp\n",
    "preprocessing.filtrage = filtrage"
   ]
  },
  {
   "cell_type": "code",
   "execution_count": 4,
   "metadata": {},
   "outputs": [
    {
     "data": {
      "image/png": "[encoded data removed]",
      "text/plain": [
       "<matplotlib.figure.Figure at 0x1b79bbaf0b8>"
      ]
     },
     "metadata": {},
     "output_type": "display_data"
    }
   ],
   "source": [
    "instance = preprocessing(motors)\n",
    "\n",
    "bornes =np.array([(0,800),\n",
    "                 (600,800),\n",
    "                 (0, 200),\n",
    "                 (0, 200),\n",
    "                 (0, 200),\n",
    "                 (0, 200),\n",
    "                 (0, 200),\n",
    "                 (0, 200)\n",
    "                 ])\n",
    "demo = instance.filtrage(bornes)\n",
    "plt.scatter(motors[:,2], motors[:,3])\n",
    "plt.scatter(demo[:,2], demo[:,3])\n",
    "plt.show()"
   ]
  },
  {
   "cell_type": "markdown",
   "metadata": {},
   "source": [
    "## Filtrage de Pareto"
   ]
  },
  {
   "cell_type": "markdown",
   "metadata": {},
   "source": [
    "L'optimum de Pareto est une allocation des ressources pour laquelle il n'existe pas une alternative dans laquelle tous les acteurs seraient dans une meilleure position. Cette notion permet de diviser en deux l'ensemble des options possibles :\n",
    "\n",
    " * Les points non-dominants (ceux qui sont uniformément améliorables) : il est possible d'augmenter le bien-être de certains individus sans réduire celui des autres.\n",
    " * Les points dominants (ceux qui ne sont pas uniformément améliorables) : l'augmentation du bien-être de certains individus implique la réduction du bien-être d'au moins un autre individu.\n",
    "\n",
    "Le principe du filtrage de Pareto est, en utilisant la notion d’optimum de Pareto, de conserver les points qui font partie du front Pareto, c’est-à-dire, les points dominants.\n"
   ]
  },
  {
   "cell_type": "code",
   "execution_count": 7,
   "metadata": {},
   "outputs": [],
   "source": [
    "def pareto (self, axes:np.array, modified = True )->np.array:\n",
    "        if modified == True :\n",
    "            datas = self.modifiedData\n",
    "        else:\n",
    "            datas = self._originalData\n",
    "        axes = np.sort(axes)#Tri des axes\n",
    "        #Création de la liste des axes à enlever\n",
    "        axesASupprimer = np.array([])\n",
    "        for i in np.arange(datas.shape[1]):\n",
    "            if i not in axes:\n",
    "                axesASupprimer = np.append(axesASupprimer, i)\n",
    "            #Suppresion des axes inutiles\n",
    "        datasModif = np.delete(datas, axesASupprimer, 1)\n",
    "            #Vérifier si les points sont pareto optimaux ou non\n",
    "            #Retourne un tableau de booléen pour chaque point\n",
    "            #Création du tableau de booléens, de la même taille que le nb de pts\n",
    "        isPareto = np.ones(datasModif.shape[0], dtype =bool)\n",
    "            #Créé le tableau de résultat qui contient uniquement les point Po*\n",
    "        for i, value in enumerate(datasModif):\n",
    "            for j, other_value in enumerate(datasModif):\n",
    "                different_terms = (i!=j)#Il ne faut pas que deux points identiques se comparent entre eux\n",
    "                if different_terms and isPareto[i] == True: #On sort dès que l'on trouve un comparaison Fausse\n",
    "                    isPareto[i] = np.all(np.any(value>other_value))\n",
    "        result = None\n",
    "        for index,v in enumerate(isPareto):\n",
    "            if v:\n",
    "                if result is None:\n",
    "                    # first term\n",
    "                    result = np.copy(datas[index].reshape(1,-1))\n",
    "                else:\n",
    "                    # other terms\n",
    "                    result = np.concatenate( (result,datas[index].reshape(1,-1)),axis=0 )\n",
    "            #retour\n",
    "        self.modifiedData = result\n",
    "        return result\n",
    "    \n",
    "preprocessing.pareto = pareto"
   ]
  },
  {
   "cell_type": "code",
   "execution_count": 8,
   "metadata": {},
   "outputs": [
    {
     "name": "stderr",
     "output_type": "stream",
     "text": [
      "C:\\Users\\Matthieu\\Anaconda3\\lib\\site-packages\\ipykernel_launcher.py:13: DeprecationWarning: using a non-integer array as obj in delete will result in an error in the future\n",
      "  del sys.path[0]\n"
     ]
    },
    {
     "data": {
      "image/png": "[encoded data removed]",
      "text/plain": [
       "<matplotlib.figure.Figure at 0x1b79bfb3978>"
      ]
     },
     "metadata": {},
     "output_type": "display_data"
    }
   ],
   "source": [
    "choixPareto = np.array([2,3])#Liste des axes que l'on choisi pour Pareto\n",
    "demo = instance.pareto(choixPareto)#Appel du filtrage pareto\n",
    "demo = demo[demo[:,2].argsort()]\n",
    "plt.scatter(motors[:,2], motors[:,3], c='red')\n",
    "plt.scatter(demo[:,2], demo[:,3],marker='+', c='black', label='MultiAxis Pareto')\n",
    "plt.show()"
   ]
  },
  {
   "cell_type": "code",
   "execution_count": null,
   "metadata": {},
   "outputs": [],
   "source": []
  }
 ],
 "metadata": {
  "celltoolbar": "Attachments",
  "kernelspec": {
   "display_name": "Python 3",
   "language": "python",
   "name": "python3"
  },
  "language_info": {
   "codemirror_mode": {
    "name": "ipython",
    "version": 3
   },
   "file_extension": ".py",
   "mimetype": "text/x-python",
   "name": "python",
   "nbconvert_exporter": "python",
   "pygments_lexer": "ipython3",
   "version": "3.6.4"
  }
 },
 "nbformat": 4,
 "nbformat_minor": 2
}
