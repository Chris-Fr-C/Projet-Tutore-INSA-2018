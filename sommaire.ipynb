{
 "cells": [
  {
   "cell_type": "markdown",
   "metadata": {},
   "source": [
    "# Sommaire\n",
    "0. [Introduction du cahier des charges](Pince_de_poinconnage/Introduction_et_CDC.ipynb) /_Mathieu Lecler_\n",
    "0. [Choix de la technologie de poinçonnage](Pince_de_poinconnage/Choix_de_la_technologie_de_la pince.ipynb) /_Mathieu Lecler_\n",
    "0. [Cinématique globale du système](Pince_de_poinconnage/Cinematique_globale_du_système.ipynb) /_Thomas Asencio_\n",
    "0. [Architecture du système](Pince_de_poinconnage/Architecture_du_systeme.ipynb) /_Thomas Asencio_\n",
    "0. [Pré-dimensionnement des composants](Pince_de_poinconnage/Pre-dimensionnement_des_composants.ipynb) /_Thomas Asencio - Mathieu Lecler - Florian Holmiere_\n",
    "    1. [Arbre à came](Pince_de_poinconnage/Pre-dim_Arbre_a_came.ipynb)\n",
    "    1. [Galet suiveur](Pince_de_poinconnage/Pre-dim_Galet_suiveur.ipynb)\n",
    "    1. [Ressort de rappel](Pince_de_poinconnage/Pre-dim_Ressort_de_rappel.ipynb)\n",
    "    1. [Moteur](Pince_de_poinconnage/Pre-dim_Moteur.ipynb)\n",
    "    1. [Réducteur](Pince_de_poinconnage/Pre-dim_Reducteur.ipynb)\n",
    "    1. [Bâti](Pince_de_poinconnage/Pre-dim_Bati.ipynb)\n",
    "0. [Première selection catalogue des composants](Pince_de_poinconnage/Selection_catalogue_des_composants.ipynb) /_Florian Holmiere_\n",
    "    1. [Moteur](Pince_de_poinconnage/Moteur_choisi.ipynb)\n",
    "    1. [Réducteur](Pince_de_poinconnage/Réducteur_choisi.ipynb)\n",
    "    1. [Roulements à billes](Pince_de_poinconnage/Roulements_choisis.ipynb)\n",
    "    1. [Galet suiveur](Pince_de_poinconnage/Galet_choisi.ipynb)\n",
    "    1. [Ressort de rappel](Pince_de_poinconnage/Ressort_choisi.ipynb)\n",
    "0. [Optimisation des choix de composants](modeles/modeles_presentation.ipynb) /_Christophe Corsi_\n",
    "    1. [Présentation](modeles/modeles_presentation.ipynb)\n",
    "    1. [Pré-processing](modeles/preprocessing.ipynb)\n",
    "    1. Modèles de sustitution\n",
    "        2. [Surface de réponse](modeles/surface_de_reponse.ipynb)\n",
    "        2. [Loi en puissance variable](modeles/puissance_variable.ipynb)\n",
    "        2. [Arbre de régression](modeles/arbres_regression.ipynb)\n",
    "    1. [Ajustement de l'algorithme](modeles/ajustement.ipynb)\n",
    "        2. [Ajustement de la projection](modeles/ajustement.ipynb)\n",
    "    1. [Optimisation](modeles/cas_vega.ipynb)\n",
    "        2. [Modélisation du problème d'optimisation](modeles/cas_vega.ipynb)\n",
    "        2. [Résultats d'optimisation](modeles/cas_vega.ipynb)\n",
    "0. [Filtrage de données catalogue](Preprocessing/Preprocessing.ipynb) /_Matthieu Fontaine - Victor Ayala_\n",
    "    1. [Filtrage Min-Max](Preprocessing/Preprocessing.ipynb)\n",
    "    1. [Filtrage de Pareto](Preprocessing/Preprocessing.ipynb)"
   ]
  },
  {
   "cell_type": "code",
   "execution_count": null,
   "metadata": {},
   "outputs": [],
   "source": []
  }
 ],
 "metadata": {
  "anaconda-cloud": {},
  "kernelspec": {
   "display_name": "Python 3",
   "language": "python",
   "name": "python3"
  },
  "language_info": {
   "codemirror_mode": {
    "name": "ipython",
    "version": 3
   },
   "file_extension": ".py",
   "mimetype": "text/x-python",
   "name": "python",
   "nbconvert_exporter": "python",
   "pygments_lexer": "ipython3",
   "version": "3.6.4"
  }
 },
 "nbformat": 4,
 "nbformat_minor": 1
}
