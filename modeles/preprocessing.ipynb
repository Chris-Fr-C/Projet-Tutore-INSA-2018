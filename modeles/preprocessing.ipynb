{
 "cells": [
  {
   "cell_type": "markdown",
   "metadata": {},
   "source": [
    "# Preprocessing\n",
    "\n",
    "Le preprocessing est une opération nécéssaire pour garantir des modèles cohérents, et les plus précis possibles.\n",
    "Deux types de preprocessing des variables sont possibles. La standardisation, et la normalisation. Ces deux méthodes permettent de réduire les erreurs numériques, et sont parfois totalement indispensables pour certains types de modèles (surtout ceux basés sur des normes)"
   ]
  },
  {
   "cell_type": "markdown",
   "metadata": {},
   "source": [
    "## Normalisation\n",
    "La normalisation regroupe les variables sur une plage valeurs allant de 0 à 1.\n",
    "\n",
    "Soit $N(X)$ la fonction de normalisation.\n",
    "$N(X):\\mathbb{R}\\rightarrow[0,1]$\n",
    "La normalisation s'effectue au travers de la formule suivante:\n",
    "$$X_{norm}=\\frac{X-X_{min}}{{X_{min}-X_{max}}}$$\n",
    "\n"
   ]
  },
  {
   "cell_type": "markdown",
   "metadata": {},
   "source": [
    "## Standardisation\n",
    "La standardisation s'assure que les variables ont une moyenne centrée sur 0, et leur erreur standard est égale à 1.\n",
    "\n",
    "Elle s'applique au travers de la fonction suivante:\n",
    "$$ X_{standardized} = \\frac{X-mean(X)}{std(X)} $$\n"
   ]
  },
  {
   "cell_type": "markdown",
   "metadata": {},
   "source": [
    "# [Retour au sommaire de la partie](modeles_presentation.ipynb)"
   ]
  }
 ],
 "metadata": {
  "kernelspec": {
   "display_name": "Python 3",
   "language": "python",
   "name": "python3"
  },
  "language_info": {
   "codemirror_mode": {
    "name": "ipython",
    "version": 3
   },
   "file_extension": ".py",
   "mimetype": "text/x-python",
   "name": "python",
   "nbconvert_exporter": "python",
   "pygments_lexer": "ipython3",
   "version": "3.6.4"
  }
 },
 "nbformat": 4,
 "nbformat_minor": 2
}
