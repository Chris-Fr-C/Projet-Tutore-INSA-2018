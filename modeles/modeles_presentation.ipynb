{
 "cells": [
  {
   "cell_type": "markdown",
   "metadata": {
    "slideshow": {
     "slide_type": "slide"
    }
   },
   "source": [
    "Sommaire de la sous partie\n",
    "- Presentation\n",
    "- Modèles de substitution\n",
    "    - [Surface de réponse](surface_de_reponse.ipynb)\n",
    "    - [Loi en puissance variable](puissance_variable.ipynb)\n",
    "    - [Arbre de régression](arbres_regression.ipynb)\n",
    "- Ajustement de l'algorithme d'arbre de regression pour de l'optimisation catalogue\n",
    "    - [Ajustement de la projection](ajustement.ipynb)\n",
    "- Optimisation\n",
    "    - Modélisation du problème d'optimisation\n",
    "    - Résultats d'optimisation\n"
   ]
  },
  {
   "cell_type": "markdown",
   "metadata": {},
   "source": [
    "# Presentation\n",
    "Les modèles de substitution (surrogate) sont des modèles entrainés sur des données afin de pouvoir prédire des valeurs sur des parametres d'entrée quelconques. Le modèle le plus connu est la régression linéaire d'ordre 1, utilisé pour obtenir de nombreuses lois empiriques.\n",
    "\n",
    "Conventionnellement nous allons noter $Y$ la variable de sortie (variable dépendante) et $X$ la variable d'entrée, ou variable indépendante.\n",
    "\n",
    "La maîtrise des "
   ]
  },
  {
   "cell_type": "markdown",
   "metadata": {},
   "source": [
    "# Modèles de substitution\n",
    "\n",
    "Soit $X$ le vecteur d'entrée. Soit $Y$ le vecteur de sortie\n",
    "Nous cherchons un modèle $F(X)$ tel que $F(x)$ prédise au mieux la sortie $Y$ correspondante.\n",
    "Le critère de coût peut être être varié, mais nous utiliserons ici la fonction de coût suivante, appelée Moindres carrés.\n",
    "Elle est évaluée telle que :\n",
    "$Coût = \\sum_{i=0}^{n}{(Y_{true} - Y_{predicted})^{2}}$\n",
    "\n"
   ]
  }
 ],
 "metadata": {
  "celltoolbar": "Slideshow",
  "kernelspec": {
   "display_name": "Python 3",
   "language": "python",
   "name": "python3"
  },
  "language_info": {
   "codemirror_mode": {
    "name": "ipython",
    "version": 3
   },
   "file_extension": ".py",
   "mimetype": "text/x-python",
   "name": "python",
   "nbconvert_exporter": "python",
   "pygments_lexer": "ipython3",
   "version": "3.6.4"
  }
 },
 "nbformat": 4,
 "nbformat_minor": 2
}
