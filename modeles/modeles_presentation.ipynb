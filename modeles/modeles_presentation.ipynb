{
 "cells": [
  {
   "cell_type": "markdown",
   "metadata": {
    "slideshow": {
     "slide_type": "-"
    }
   },
   "source": [
    "Sommaire de la sous partie\n",
    "- Presentation\n",
    "- [Preprocessing](preprocessing.ipynb)\n",
    "- Modèles de substitution\n",
    "    - [Surface de réponse](surface_de_reponse.ipynb)\n",
    "    - [Loi en puissance variable](puissance_variable.ipynb)\n",
    "    - [Arbre de régression](arbres_regression.ipynb)\n",
    "- [Ajustement de l'algorithme d'arbre de regression pour de l'optimisation catalogue](ajustement.ipynb)\n",
    "    - [Ajustement de la projection](ajustement.ipynb)\n",
    "- [Optimisation](cas_vega.ipynb)\n",
    "    - [Modélisation du problème d'optimisation](cas_vega.ipynb)\n",
    "    - [Résultats d'optimisation](cas_vega.ipynb)\n",
    "    \n",
    "    \n",
    "[Retour au sommaire](../sommaire.ipynb)\n"
   ]
  },
  {
   "cell_type": "markdown",
   "metadata": {},
   "source": [
    "# Presentation\n",
    "Les modèles de substitution (surrogate) sont des modèles entrainés sur des données afin de pouvoir prédire des valeurs sur des parametres d'entrée quelconques. Le modèle le plus connu est la régression linéaire d'ordre 1, utilisée pour extraire une formule de données empiriques.\n",
    "\n",
    "Conventionnellement nous allons noter $Y$ la variable de sortie (variable dépendante) et $X$ la variable d'entrée (variable indépendante)\n"
   ]
  },
  {
   "cell_type": "markdown",
   "metadata": {},
   "source": [
    "# [Retour au sommaire](../sommaire.ipynb)"
   ]
  }
 ],
 "metadata": {
  "celltoolbar": "Slideshow",
  "kernelspec": {
   "display_name": "Python 3",
   "language": "python",
   "name": "python3"
  },
  "language_info": {
   "codemirror_mode": {
    "name": "ipython",
    "version": 3
   },
   "file_extension": ".py",
   "mimetype": "text/x-python",
   "name": "python",
   "nbconvert_exporter": "python",
   "pygments_lexer": "ipython3",
   "version": "3.6.0"
  }
 },
 "nbformat": 4,
 "nbformat_minor": 2
}
